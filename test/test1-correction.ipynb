{
 "cells": [
  {
   "cell_type": "markdown",
   "metadata": {},
   "source": [
    "Strings\n",
    "\n",
    "1. A social media platform wants to ensure that user passwords contain at least 8 characters. \n",
    "    Write a Python function that checks if a given password meets this requirement and returns a boolean value."
   ]
  },
  {
   "cell_type": "code",
   "execution_count": 1,
   "metadata": {},
   "outputs": [
    {
     "name": "stdout",
     "output_type": "stream",
     "text": [
      "False\n"
     ]
    }
   ],
   "source": [
    "import string\n",
    "import random\n",
    "def password():\n",
    "    s=string.ascii_letters\n",
    "    p=\"!@#$&*\"\n",
    "    \n",
    "    d=string.digits\n",
    "    word= s+d+p\n",
    "    r_word=random.choices(word,k=8)\n",
    "    p_word=''.join(r_word)\n",
    "    print(p_word)\n",
    "password()\n",
    "\n",
    "    "
   ]
  },
  {
   "cell_type": "code",
   "execution_count": 17,
   "metadata": {},
   "outputs": [
    {
     "name": "stdout",
     "output_type": "stream",
     "text": [
      "enter a password: 123\n",
      "password is:  123bfesl\n",
      "True\n"
     ]
    }
   ],
   "source": [
    "import random\n",
    "import string\n",
    "\n",
    "a=input(\"enter a password: \")\n",
    "def password(a):\n",
    "    if(len(a)>=8):\n",
    "        print(\"password is: \", a)\n",
    "        return True\n",
    "    else:\n",
    "        missing = 8 - len(a)\n",
    "        for i in range(missing):\n",
    "            a += random.choice(string.ascii_lowercase)\n",
    "        return password(a)\n",
    "\n",
    "\n",
    "x=password(a)\n",
    "\n",
    "if x:\n",
    "    print(x)\n",
    "    "
   ]
  },
  {
   "cell_type": "markdown",
   "metadata": {},
   "source": [
    "2.An e-commerce website needs to generate unique order numbers for each purchase. \n",
    "How can Python's string manipulation be used to create a unique order number based on the customer's name and current date?"
   ]
  },
  {
   "cell_type": "code",
   "execution_count": 66,
   "metadata": {},
   "outputs": [
    {
     "name": "stdout",
     "output_type": "stream",
     "text": [
      "[{'name': 'albin', 'product': 'smartphone', 'order_id': 'albin-20230828111304299905'}, {'name': 'albin', 'product': 'laptop', 'order_id': 'albin-20230828111304302902'}, {'name': 'raja', 'product': 'television', 'order_id': 'raja-20230828111304318075'}, {'name': 'ram', 'product': 'headset', 'order_id': 'ram-20230828111304333238'}, {'name': 'naga', 'product': 'backpack', 'order_id': 'naga-20230828111304348089'}]\n"
     ]
    }
   ],
   "source": [
    "from datetime import datetime\n",
    "from time import sleep\n",
    "\n",
    "customers = [\n",
    "    {\n",
    "        \"name\": \"albin\",\n",
    "        \"product\": \"smartphone\"\n",
    "    },\n",
    "    {\n",
    "        \"name\": \"albin\",\n",
    "        \"product\": \"laptop\"\n",
    "    },\n",
    "    {\n",
    "        \"name\": \"raja\",\n",
    "        \"product\": \"television\"\n",
    "    },\n",
    "    {\n",
    "        \"name\": \"ram\",\n",
    "        \"product\": \"headset\"\n",
    "    },\n",
    "    {\n",
    "        \"name\": \"naga\",\n",
    "        \"product\": \"backpack\"\n",
    "    }\n",
    "]\n",
    "\n",
    "for customer in customers:\n",
    "    date = datetime.now().strftime(\"%Y%m%d%H%M%S%f\")\n",
    "    order_id = {\n",
    "        \"order_id\": customer[\"name\"] + \"-\" + date\n",
    "    }\n",
    "    sleep(0.0000000000000001)\n",
    "    customer.update(order_id)\n",
    "\n",
    "print(customers)\n",
    "\n"
   ]
  },
  {
   "cell_type": "markdown",
   "metadata": {},
   "source": [
    "3. A text processing tool needs to count the number of occurrences of a specific word in a given text. \n",
    "Write a Python function that takes the text and the word as inputs and returns the count"
   ]
  },
  {
   "cell_type": "code",
   "execution_count": 69,
   "metadata": {},
   "outputs": [
    {
     "name": "stdout",
     "output_type": "stream",
     "text": [
      "0\n"
     ]
    }
   ],
   "source": [
    "\n",
    "\n",
    "def fns(n):\n",
    "    \n",
    "    return n.count(\"First\")\n",
    "x=fns(\"this Is my first test\")\n",
    "print(x)\n",
    "\n"
   ]
  },
  {
   "cell_type": "code",
   "execution_count": 4,
   "metadata": {},
   "outputs": [
    {
     "name": "stdout",
     "output_type": "stream",
     "text": [
      "{'the': 3}\n"
     ]
    }
   ],
   "source": [
    "def fns(text: str, word: str) -> dict:\n",
    "    word_count = {}\n",
    "    for i in text.split(): \n",
    "        word_count[i.casefold()] = word_count.get(i.casefold(), 0) + 1\n",
    "    # print(word_count)   \n",
    "        \n",
    "    if type(word) == str:\n",
    "        \n",
    "        count = {word.casefold(): word_count.get(word.casefold(), 0)}\n",
    "       \n",
    "    \n",
    "    elif isinstance(list(word), list):\n",
    "        count = {}\n",
    "        for w in word:\n",
    "            count.update({w.casefold():word_count.get(w.casefold(), 0)})   \n",
    "    \n",
    "    return count\n",
    "    \n",
    "\n",
    "text = \"Write a Python function that takes the text and the word as inputs and returns the count\"\n",
    "\n",
    "m_word = \"the\", \"a\", \"python\", \"z\"\n",
    "s_word = \"the\"\n",
    "\n",
    "counts = fns(text, s_word)\n",
    "\n",
    "print(counts)"
   ]
  },
  {
   "cell_type": "markdown",
   "metadata": {},
   "source": [
    "4. A company wants to create personalized email addresses for employees. \n",
    "How can you use Python to concatenate the first name and last name of an employee to generate their email address?"
   ]
  },
  {
   "cell_type": "code",
   "execution_count": 124,
   "metadata": {},
   "outputs": [
    {
     "name": "stdout",
     "output_type": "stream",
     "text": [
      "enter a first name: inthu\n",
      "enter a last name: mathi\n",
      "inthu123mathi@gmail.com\n"
     ]
    }
   ],
   "source": [
    "company = \"gmail\"\n",
    "f_name = input(\"enter a first name: \")\n",
    "l_name = input(\"enter a last name: \")\n",
    "print(f\"{f_name}123{l_name}@{company}.com\")\n",
    "    "
   ]
  },
  {
   "cell_type": "markdown",
   "metadata": {},
   "source": [
    "5. An online form validation requires users to enter a valid email address. \n",
    "Write a Python program that checks whether a given string is a valid email address."
   ]
  },
  {
   "cell_type": "code",
   "execution_count": 11,
   "metadata": {},
   "outputs": [
    {
     "name": "stdout",
     "output_type": "stream",
     "text": [
      "not valid\n"
     ]
    }
   ],
   "source": [
    "e_add=\"botibha@gmail.com\"\n",
    "x=e_add.endswith(\"@gmail.com\")\n",
    "if (x):\n",
    "    print(\"vaild email address:\",e_add)\n",
    "else:\n",
    "    print(\"not valid\")"
   ]
  },
  {
   "cell_type": "code",
   "execution_count": 161,
   "metadata": {},
   "outputs": [
    {
     "name": "stdout",
     "output_type": "stream",
     "text": [
      "botibha2@gmail.com\n"
     ]
    }
   ],
   "source": [
    "import re\n",
    "\n",
    "pattern = \"\\w+@\\w+\\.\\w{2,4}$\"\n",
    "\n",
    "e_add= \"botibha@gmail.com\"\n",
    "\n",
    "check = re.search(pattern, e_add).group()\n",
    "print(check)\n",
    "\n",
    "# import re\n",
    "\n",
    "# email=\"imathi@gmail.com\"\n",
    "# pattern=r\"[A-Za-z]+[0-9]+\\@[a-z]+\\.[a-z]{2,4}$\"\n",
    "# valid=re.search(pattern,email)\n",
    "# if valid:\n",
    "#     print(\"valid email address\")\n",
    "# else:\n",
    "#     print(\"not valid\")\n",
    "\n"
   ]
  },
  {
   "cell_type": "markdown",
   "metadata": {},
   "source": [
    "Integers\n",
    "\n",
    "6. A banking application needs to calculate the compound interest for a savings account.\n",
    " Write a Python function that takes principal amount, interest rate, and time as inputs and returns the final amount."
   ]
  },
  {
   "cell_type": "code",
   "execution_count": 2,
   "metadata": {},
   "outputs": [
    {
     "name": "stdout",
     "output_type": "stream",
     "text": [
      "1061.208\n",
      "compound interest is 61.21\n"
     ]
    }
   ],
   "source": [
    "p_amt=float(input(\"enter a amount\"))\n",
    "r=float(input(\"enter a interest\"))\n",
    "t=float(input(\"enter a time\"))\n",
    "a=p_amt*(1+(r/100))**t\n",
    "print(a)\n",
    "c=a-p_amt\n",
    "print(\"compound interest is\",f\"%1.2f\"%c)\n"
   ]
  },
  {
   "cell_type": "code",
   "execution_count": null,
   "metadata": {},
   "outputs": [],
   "source": [
    "7. A game developer wants to implement a scoring system where players earn points. \n",
    "How can Python be used to keep track of each player's score?"
   ]
  },
  {
   "cell_type": "code",
   "execution_count": 26,
   "metadata": {},
   "outputs": [
    {
     "name": "stdout",
     "output_type": "stream",
     "text": [
      "[{'player1': 10}]\n",
      "[{'player1': 10}, {'player2': 5}]\n",
      "[{'player1': 30}, {'player2': 5}]\n"
     ]
    }
   ],
   "source": [
    "players = []  \n",
    "\n",
    "def add_player(name, score):\n",
    "    player_exists = False\n",
    "    for player in players:\n",
    "        if name in player:\n",
    "            player[name] += score\n",
    "            \n",
    "            player_exists = True\n",
    "            break\n",
    "\n",
    "    if not player_exists:\n",
    "        players.append({name: score})\n",
    "    print(players)\n",
    "add_player(\"player1\", 10)\n",
    "add_player(\"player2\", 5)\n",
    "add_player(\"player1\", 20)\n",
    "\n",
    "# def get_player(name):\n",
    "\n",
    "#     for player in players:\n",
    "#         if name in player:\n",
    "#             print(player)\n",
    "\n",
    "# get_player(\"player1\")\n",
    "# get_player(\"player2\")"
   ]
  },
  {
   "cell_type": "markdown",
   "metadata": {},
   "source": [
    "8. An inventory management system needs to calculate the total value of items in stock. \n",
    "Write a Python function that calculates the total value based on the price and quantity of each item."
   ]
  },
  {
   "cell_type": "code",
   "execution_count": 97,
   "metadata": {},
   "outputs": [
    {
     "name": "stdout",
     "output_type": "stream",
     "text": [
      "total value 500\n"
     ]
    }
   ],
   "source": [
    "q=int(input(\"enter a quantity\"))\n",
    "p=int(input(\"enter a price\"))\n",
    "t=0\n",
    "if q>0:\n",
    "    t=q*p\n",
    "    print(\"total value\",t)\n",
    "else:\n",
    "    print(\"no quantity\")\n",
    "\n"
   ]
  },
  {
   "cell_type": "code",
   "execution_count": 173,
   "metadata": {},
   "outputs": [
    {
     "name": "stdout",
     "output_type": "stream",
     "text": [
      "The total value of all the stock is: Rs 1280\n"
     ]
    }
   ],
   "source": [
    "items = [\n",
    "    {\n",
    "        \"name\": \"pen\",\n",
    "        \"price\": 5,\n",
    "        \"quantity\": 50\n",
    "    },\n",
    "    {\n",
    "        \"name\": \"pencil\",\n",
    "        \"price\": 2,\n",
    "        \"quantity\": 75\n",
    "    },\n",
    "    {\n",
    "        \"name\": \"book\",\n",
    "        \"price\": 20,\n",
    "        \"quantity\": 35\n",
    "    },\n",
    "    {\n",
    "        \"name\": \"eraser\",\n",
    "        \"price\": 3,\n",
    "        \"quantity\": 20\n",
    "    },\n",
    "    {\n",
    "        \"name\": \"sharpner\",\n",
    "        \"price\": 4,\n",
    "        \"quantity\": 30\n",
    "    }\n",
    "]\n",
    "\n",
    "items_total = 0\n",
    "\n",
    "for item in items:\n",
    "    items_total += item[\"price\"] * item[\"quantity\"]\n",
    "\n",
    "print(\"The total value of all the stock is: Rs\",items_total)"
   ]
  },
  {
   "cell_type": "markdown",
   "metadata": {},
   "source": [
    "9. A fitness app tracks the number of calories burned during a workout. \n",
    "How can Python be used to sum the calories burned in a week's worth of workouts?"
   ]
  },
  {
   "cell_type": "code",
   "execution_count": 175,
   "metadata": {},
   "outputs": [
    {
     "name": "stdout",
     "output_type": "stream",
     "text": [
      "enter a time30\n",
      "enter a weight in KG70\n",
      "enter a met3.5\n",
      "128.625\n"
     ]
    }
   ],
   "source": [
    "time=int(input(\"enter a time\"))\n",
    "wkg=int(input(\"enter a weight in KG\"))\n",
    "MET=float(input(\"enter a met\"))\n",
    "\n",
    "\n",
    "calories=time*(MET*3.5*wkg)/200\n",
    "print(calories)"
   ]
  },
  {
   "cell_type": "markdown",
   "metadata": {},
   "source": [
    "A school wants to automate the grading process.\n",
    "Write a Python program that calculates the average score for a list of student scores."
   ]
  },
  {
   "cell_type": "code",
   "execution_count": 178,
   "metadata": {},
   "outputs": [
    {
     "name": "stdout",
     "output_type": "stream",
     "text": [
      "inthu\n",
      "Pass\n",
      "total=190\n",
      "average=63.333333333333336\n",
      "grade is C\n",
      "\n",
      "inthu\n",
      "Pass\n",
      "total=197\n",
      "average=65.66666666666667\n",
      "grade is C\n",
      "\n",
      "inthu\n",
      "Fail\n"
     ]
    }
   ],
   "source": [
    "def student(m1,m2,m3):\n",
    "    name= \"inthu\"\n",
    "    print(name)\n",
    "    \n",
    "    if (m1>=35) and (m2>=35) and (m3>=35):\n",
    "        print(\"Pass\")\n",
    "        \n",
    "        tot=m1+m2+m3\n",
    "        print(f\"total={tot}\")\n",
    "        \n",
    "        avg=tot/3\n",
    "        print(f\"average={avg}\")\n",
    "        \n",
    "        if (avg>=90):\n",
    "            print(\"grade is A\")\n",
    "        elif (avg>=80):\n",
    "            print(\"grade is B\")\n",
    "        elif (avg>=60):\n",
    "            print(\"grade is C\")\n",
    "        elif (avg>=40):\n",
    "            print(\"grade is D\")\n",
    "        elif (avg>=35):\n",
    "            print(\"grade is E\")\n",
    "        else:\n",
    "            print(\"grade is F\")\n",
    "    else: \n",
    "        print(\"Fail\")\n",
    "        \n",
    "student(50,60,80)\n",
    "print()\n",
    "student(54,78,65)\n",
    "print()\n",
    "student(50,34,60)\n"
   ]
  },
  {
   "cell_type": "markdown",
   "metadata": {},
   "source": [
    "Variables\n",
    "\n",
    "11.A weather application needs to store and display the current temperature. \n",
    "How can Python variables be used to store this information?"
   ]
  },
  {
   "cell_type": "code",
   "execution_count": null,
   "metadata": {},
   "outputs": [],
   "source": []
  },
  {
   "cell_type": "code",
   "execution_count": null,
   "metadata": {},
   "outputs": [],
   "source": [
    "12. A restaurant wants to keep track of daily sales.\n",
    "How can Python variables be used to store the total sales for each day of the week?"
   ]
  },
  {
   "cell_type": "code",
   "execution_count": 185,
   "metadata": {},
   "outputs": [
    {
     "name": "stdout",
     "output_type": "stream",
     "text": [
      "enter a sale of the day:50\n",
      "enter a sale of the day:63\n",
      "enter a sale of the day:45\n",
      "enter a sale of the day:85\n",
      "enter a sale of the day:49\n",
      "enter a sale of the day:78\n",
      "enter a sale of the day:85\n",
      "85\n"
     ]
    }
   ],
   "source": [
    "def week_sale():\n",
    "    t_d_sales=0\n",
    "    \n",
    "    for i in range(7):\n",
    "        t_d_sales +=int(input(\"enter a sale of the day:\"))\n",
    "   \n",
    "    print(t_d_sales)\n",
    "    \n",
    "week_sale()"
   ]
  },
  {
   "cell_type": "code",
   "execution_count": 184,
   "metadata": {},
   "outputs": [
    {
     "name": "stdout",
     "output_type": "stream",
     "text": [
      "Enter a sale for the day of Sunday:25\n",
      "Enter a sale for the day of Monday:23\n",
      "Enter a sale for the day of Tuesday:85\n",
      "Enter a sale for the day of Thursday:69\n",
      "Enter a sale for the day of Friday:48\n",
      "Enter a sale for the day of Saturday:85\n",
      "{'sales': {'sunday': 25, 'monday': 23, 'tuesday': 85, 'thursday': 69, 'friday': 48, 'saturday': 85}, 'total_sales': 335}\n"
     ]
    }
   ],
   "source": [
    "def week_sale():\n",
    "    weeks = {}\n",
    "    week_days = [\"sunday\", \"monday\", \"tuesday\", \"thursday\", \"friday\", \"saturday\"]\n",
    "    \n",
    "    for w in week_days:\n",
    "        weeks[w] = int(input(f\"Enter a sale for the day of {w.capitalize()}:\"))\n",
    "   \n",
    "    final = {\n",
    "        \"sales\": weeks,\n",
    "        \"total_sales\": sum(weeks.values())\n",
    "    }\n",
    "    print(final)\n",
    "\n",
    "week_sale()"
   ]
  },
  {
   "cell_type": "code",
   "execution_count": 188,
   "metadata": {},
   "outputs": [
    {
     "name": "stdout",
     "output_type": "stream",
     "text": [
      "Enter a sale for the day of Sunday:85\n",
      "Enter a sale for the day of Monday:99\n",
      "Enter a sale for the day of Tuesday:74\n",
      "Enter a sale for the day of Thursday:52\n",
      "Enter a sale for the day of Friday:56\n",
      "Enter a sale for the day of Saturday:45\n",
      "{'sales': {'sunday': 85, 'monday': 99, 'tuesday': 74, 'thursday': 52, 'friday': 56, 'saturday': 45}, 'total_sales': 411}\n"
     ]
    }
   ],
   "source": [
    "def week_sale():\n",
    "    week_days = [\"sunday\", \"monday\", \"tuesday\", \"thursday\", \"friday\", \"saturday\"]\n",
    "    \n",
    "    weeks = {\"sales\": {w: int(input(f\"Enter a sale for the day of {w.capitalize()}:\"))  for w in week_days}}\n",
    "\n",
    "    final = {\n",
    "       \"total_sales\": sum(weeks[\"sales\"].values())\n",
    "    }\n",
    "    weeks.update(final)\n",
    "    print(weeks)\n",
    "\n",
    "week_sale()"
   ]
  },
  {
   "cell_type": "markdown",
   "metadata": {},
   "source": [
    "13. A game developer needs to store the player's username and score. \n",
    "`How can Python variables be used to store this information?"
   ]
  },
  {
   "cell_type": "code",
   "execution_count": 5,
   "metadata": {},
   "outputs": [
    {
     "name": "stdout",
     "output_type": "stream",
     "text": [
      "Players name and Score\n",
      "{'name': 'Indhu', 'score': 10}\n",
      "{'name': 'Raja', 'score': 8}\n",
      "{'name': 'Rakshita', 'score': 10}\n",
      "{'name': 'chandru', 'score': 9}\n"
     ]
    }
   ],
   "source": [
    "game=[\n",
    "    {\n",
    "    \"name\":\"Indhu\",\n",
    "    \"score\":10\n",
    "    },\n",
    "    {\n",
    "    \"name\":\"Raja\",\n",
    "    \"score\":8\n",
    "    },\n",
    "    {\n",
    "    \"name\":\"Rakshita\",\n",
    "    \"score\":10\n",
    "    },\n",
    "    {\n",
    "    \"name\":\"chandru\",\n",
    "    \"score\":9\n",
    "    }\n",
    "]\n",
    "\n",
    "print(\"Players name and Score\")\n",
    "for i in game:\n",
    "    print(i)\n",
    "\n"
   ]
  },
  {
   "cell_type": "markdown",
   "metadata": {},
   "source": [
    "14. A travel agency wants to store and display information about various destinations. \n",
    "How can Python variables be used to store details like destination name, price, and availability?"
   ]
  },
  {
   "cell_type": "code",
   "execution_count": 84,
   "metadata": {},
   "outputs": [
    {
     "name": "stdout",
     "output_type": "stream",
     "text": [
      "{'des_name': 'kovai', 'price': 700, 'aval': 'yes'}\n",
      "700\n"
     ]
    }
   ],
   "source": [
    "tr_agency=[\n",
    "    {\n",
    "    \"des_name\":\"Ooty\",\n",
    "    \"price\"   :500,\n",
    "    \"aval\"    :\"yes\"\n",
    "    },\n",
    "     {\n",
    "    \"des_name\":\"kerala\",\n",
    "    \"price\"   :1000,\n",
    "    \"aval\"    :\"no\"\n",
    "    },\n",
    "     {\n",
    "    \"des_name\":\"kodaikanal\",\n",
    "    \"price\"   :800,\n",
    "    \"aval\"    :\"no\"\n",
    "    }, {\n",
    "    \"des_name\":\"kovai\",\n",
    "    \"price\"   :700,\n",
    "    \"aval\"    :\"yes\"\n",
    "    }\n",
    "]\n",
    "place=input(\"which place you want to visit\")\n",
    "avail=None\n",
    "\n",
    "for des in tr_agency:\n",
    "    if des[\"des_name\"].lower() == place and des[\"aval\"] == \"yes\":\n",
    "        avail=des\n",
    "        print(avail)\n",
    "\n",
    "if avail:\n",
    "    print(avail[\"price\"])   \n",
    "else:\n",
    "    print(\"no availability\")\n",
    "        "
   ]
  },
  {
   "cell_type": "markdown",
   "metadata": {},
   "source": [
    "15. A scientific experiment requires tracking the changing values of temperature over time. \n",
    "How can Python variables be used to store and analyze this data?"
   ]
  },
  {
   "cell_type": "code",
   "execution_count": 189,
   "metadata": {},
   "outputs": [
    {
     "name": "stdout",
     "output_type": "stream",
     "text": [
      "35.775\n"
     ]
    }
   ],
   "source": [
    "temp_list = [36.8, 28.9, 42.9, 34.5]\n",
    "\n",
    "avg = sum(temp_list) / len(temp_list)\n",
    "print(avg)"
   ]
  },
  {
   "cell_type": "markdown",
   "metadata": {},
   "source": [
    "Boolean\n",
    "\n",
    "16. An online voting system needs to check if a user is eligible to vote. \n",
    "Write a Python function that uses boolean logic to determine if a user is of voting age."
   ]
  },
  {
   "cell_type": "code",
   "execution_count": 191,
   "metadata": {},
   "outputs": [
    {
     "name": "stdout",
     "output_type": "stream",
     "text": [
      "enter a age52\n",
      "True\n"
     ]
    }
   ],
   "source": [
    "\n",
    "age=int(input(\"enter a age:\"))\n",
    "if age>=18:\n",
    "    print(True)\n",
    "else:\n",
    "    print(False)\n"
   ]
  },
  {
   "cell_type": "markdown",
   "metadata": {},
   "source": [
    "17. A security system needs to determine if a user's password meets specific criteria, including a mix of uppercase and lowercase letters.\n",
    "How can Python boolean values help in this validation process?"
   ]
  },
  {
   "cell_type": "code",
   "execution_count": null,
   "metadata": {},
   "outputs": [],
   "source": [
    "password=(input(\"enter a password\"))\n",
    "p_word=password.casefold()\n",
    "p_word=len(p_word)\n",
    "\n",
    "while (p_word<=8):\n",
    "    password=(input(\"enter a password\"))\n",
    "print(\"good valide password\")"
   ]
  },
  {
   "cell_type": "code",
   "execution_count": 207,
   "metadata": {},
   "outputs": [
    {
     "data": {
      "text/plain": [
       "True"
      ]
     },
     "execution_count": 207,
     "metadata": {},
     "output_type": "execute_result"
    }
   ],
   "source": [
    "\n",
    "\n",
    "def check_password(password):\n",
    "    upper = \"ABCDEFGHIJKLMNOPQRSTUVWXYZ\"\n",
    "    lower = \"abcdefghijklmnopqrstuvwxyz\"\n",
    "    numbers = \"0123456789\"\n",
    "    characters = \"!@#$%^&*()_+\"\n",
    "    \n",
    "    len_valid = len(password) >= 8\n",
    "    upper = len([i for i in password if i in upper]) >= 1\n",
    "    lower = len([i for i in password if i in lower]) >= 1\n",
    "    numbers = len([i for i in password if i in numbers]) >= 1\n",
    "    characters = len([i for i in password if i in characters]) >= 1\n",
    "    \n",
    "    is_valid = all([len_valid, upper, lower, numbers, characters])\n",
    " \n",
    "    return is_valid\n",
    " \n",
    "check_password(\"Albin1@qhysd\")"
   ]
  },
  {
   "cell_type": "markdown",
   "metadata": {},
   "source": [
    "18. A shipping company needs to determine if a package's weight exceeds the maximum allowed weight for a specific service. \n",
    "Write a Python function that returns True if the weight is within limits and False otherwise."
   ]
  },
  {
   "cell_type": "code",
   "execution_count": 4,
   "metadata": {},
   "outputs": [
    {
     "name": "stdout",
     "output_type": "stream",
     "text": [
      "False\n",
      "exceeds the limit\n"
     ]
    }
   ],
   "source": [
    "\n",
    "\n",
    "def func():\n",
    "    wei=None\n",
    "    pro=input(\"enter a product\")\n",
    "    \n",
    "    for p in parcel:\n",
    "        if p[\"product\"].lower() == pro and p[\"weight\"] <= \"10kg\" :\n",
    "            wei=p\n",
    "    \n",
    "    if wei:\n",
    "        print(\"True\")\n",
    "        print(\"Weight with in limit\")  \n",
    "        print(wei)      \n",
    "    else:\n",
    "        print(\"False\")\n",
    "\n",
    "        print(\"exceeds the limit\")\n",
    "\n",
    "parcel=[{\n",
    "        \"product\":\"milets\",\n",
    "        \"weight\" : \"5kg\"\n",
    "    },\n",
    "    {   \n",
    "        \"product\":\"rice\",\n",
    "        \"weight\" : \"20kg\"\n",
    "    },\n",
    "    {\n",
    "        \"product\":\"wheat\",\n",
    "        \"weight\" : \"10kg\"\n",
    "    },\n",
    "    {\n",
    "       \"product\":\"sugar\",\n",
    "        \"weight\" : \"15kg\"\n",
    "    },\n",
    "    {\n",
    "        \"product\":\"cloths\",\n",
    "        \"weight\" : \"10kg\"\n",
    "    }\n",
    "]\n",
    "func()\n"
   ]
  },
  {
   "cell_type": "code",
   "execution_count": 5,
   "metadata": {},
   "outputs": [
    {
     "name": "stdout",
     "output_type": "stream",
     "text": [
      "['False', 'False', 'True', 'False', 'True']\n"
     ]
    }
   ],
   "source": [
    "\n",
    "\n",
    "result=[(\"True\" if p[\"weight\"] <= \"10kg\"  else \"False\" ) for p in parcel]\n",
    "\n",
    "print(result)"
   ]
  },
  {
   "cell_type": "markdown",
   "metadata": {},
   "source": [
    "19. A subscription-based service wants to check if a user's subscription is still active. \n",
    "How can Python boolean values be used to track subscription status?"
   ]
  },
  {
   "cell_type": "code",
   "execution_count": 5,
   "metadata": {},
   "outputs": [
    {
     "name": "stdout",
     "output_type": "stream",
     "text": [
      "2023-05-08 00:00:00\n",
      "Subscription ended\n",
      "2023-05-02 00:00:00\n",
      "Subscription ended\n",
      "2023-03-01 00:00:00\n",
      "Subscription ended\n",
      "2023-02-02 00:00:00\n",
      "Still Subscribed\n"
     ]
    }
   ],
   "source": [
    "from datetime import datetime, timedelta\n",
    "\n",
    "users = [\n",
    "    {\n",
    "        \"name\": \"Indhu\",\n",
    "        \"subscription_date\": \"2023,5,8\",\n",
    "        \"validity\": 3\n",
    "    },\n",
    "    {\n",
    "        \"name\": \"nisha\",\n",
    "        \"subscription_date\": \"2023,5,2\",\n",
    "        \"validity\": 1\n",
    "    },\n",
    "    {\n",
    "        \"name\": \"Indhu\",\n",
    "        \"subscription_date\": \"2023,3,1\",\n",
    "        \"validity\": 6\n",
    "    },\n",
    "    {\n",
    "        \"name\": \"Indhu\",\n",
    "        \"subscription_date\": \"2023,2,2\",\n",
    "        \"validity\": 12\n",
    "    }\n",
    "]\n",
    " \n",
    "now = datetime.now()\n",
    "\n",
    "\n",
    "\n",
    "\n",
    "for user in users:\n",
    "    \n",
    "    sub_date = user[\"subscription_date\"]\n",
    "    validity = user[\"validity\"]\n",
    "\n",
    "    subscription_date =datetime.strptime(sub_date,\"%Y,%m,%d\")\n",
    "   \n",
    "    valid_till = subscription_date + timedelta(days=validity*30)\n",
    "\n",
    "    if valid_till > now:\n",
    "        print(\"Still Subscribed\")\n",
    "    else:\n",
    "        print(\"Subscription ended\")\n",
    "   "
   ]
  },
  {
   "cell_type": "markdown",
   "metadata": {},
   "source": [
    "20. An online quiz application needs to evaluate whether a user's answers are correct. \n",
    "How can Python boolean values be used to check the correctness of answers?"
   ]
  },
  {
   "cell_type": "code",
   "execution_count": 37,
   "metadata": {},
   "outputs": [
    {
     "name": "stdout",
     "output_type": "stream",
     "text": [
      "which is our national bird?\n",
      "('parrot', 'peacock', 'duck')\n",
      "peacock\n",
      "correct\n",
      "--------------------------\n",
      "which is our national animal?\n",
      "('lion', 'tiger', 'cat')\n",
      "tiger\n",
      "correct\n",
      "--------------------------\n",
      "which is our national tree ?\n",
      "('palm tree', 'mango tree', 'banyan tree')\n",
      "banyan tree\n",
      "correct\n",
      "--------------------------\n",
      "3\n"
     ]
    }
   ],
   "source": [
    "questions=[\n",
    "    {\n",
    "        \"q\":\"which is our national bird?\",\n",
    "        \"o\" : (\"parrot\",\"peacock\",\"duck\"),\n",
    "        \"a\" : \"peacock\"\n",
    "    },\n",
    "    {\n",
    "        \"q\":\"which is our national animal?\",\n",
    "        \"o\" : (\"lion\",\"tiger\",\"cat\"),\n",
    "        \"a\" : \"tiger\"\n",
    "    },\n",
    "    {\n",
    "        \"q\":\"which is our national tree ?\",\n",
    "        \"o\" : (\"palm tree\",\"mango tree\",\"banyan tree\"),\n",
    "        \"a\" : \"banyan tree\"\n",
    "    },\n",
    "]\n",
    "guess=None\n",
    "\n",
    "\n",
    "score=0\n",
    "\n",
    "for ques in questions:\n",
    "    print(ques[\"q\"])\n",
    "    print(ques[\"o\"])\n",
    "    \n",
    "    ans=input(\"enter the answer\")\n",
    "    \n",
    "    guess=ans\n",
    "    print(guess)\n",
    "    if ques[\"a\"]==guess:\n",
    "        print(\"correct\")\n",
    "        score+=1\n",
    "        print(\"--------------------------\")\n",
    "    else:\n",
    "        print(\"incorrect\")\n",
    "        print(\"--------------------------\")\n",
    "\n",
    "print(score)"
   ]
  },
  {
   "cell_type": "markdown",
   "metadata": {},
   "source": [
    "List\n",
    "21. A grocery store wants to create a shopping list for customers.\n",
    "Write a Python program that allows users to add and remove items from their shopping list."
   ]
  },
  {
   "cell_type": "code",
   "execution_count": 42,
   "metadata": {},
   "outputs": [
    {
     "name": "stdout",
     "output_type": "stream",
     "text": [
      "rice\n",
      "{'product': 'rice', 'weight': '20kg', 'price': '1500'}\n",
      "-----------------------------------\n",
      "remove items\n",
      "{'product': 'rice', 'price': '1500'}\n",
      "-----------------------------------\n",
      "add items\n",
      "{'product': 'rice', 'price': '1500', 'weight': '1kg'}\n",
      "-----------------------------------\n",
      "change the item values\n",
      "\n",
      "product details\n",
      "\n",
      "product  =  rice\n",
      "price  =  60Rs\n",
      "weight  =  1kg\n"
     ]
    }
   ],
   "source": [
    "grocery=[\n",
    "    \n",
    "    {\n",
    "        \"product\":\"milets\",\n",
    "        \"weight\" :\"1kg\",\n",
    "        \"price\"  : \"1000\"\n",
    "    },\n",
    "    {   \n",
    "        \"product\":\"rice\",\n",
    "        \"weight\" :\"20kg\",\n",
    "        \"price\"  :\"1500\"\n",
    "    },\n",
    "    {\n",
    "        \"product\":\"wheat\",\n",
    "        \"weight\" : \"10kg\",\n",
    "        \"price\"  : \"1000\"\n",
    "    },\n",
    "    {\n",
    "       \"product\":\"sugar\",\n",
    "        \"weight\" : \"15kg\",\n",
    "        \"price\"  : \"600\"\n",
    "    },\n",
    "    {\n",
    "        \"product\":\"groceries\",\n",
    "        \"weight\" : \"1kg\",\n",
    "        \"price\"  : \"500\"   \n",
    "    }\n",
    "]\n",
    "s_list={}\n",
    "p=input(\"enter a product\")\n",
    "print(p)\n",
    "for gro in grocery:\n",
    "    if gro[\"product\"]==p:\n",
    "        s_list=gro.copy()\n",
    "        print(s_list)\n",
    "print(\"-----------------------------------\")\n",
    "print(\"remove items\")\n",
    "s_list.pop(\"weight\")\n",
    "print(s_list)\n",
    "print(\"-----------------------------------\")\n",
    "print(\"add items\")\n",
    "s_list[\"weight\"]=\"1kg\"\n",
    "print(s_list)\n",
    "print(\"-----------------------------------\")\n",
    "print(\"change the item values\")\n",
    "print()\n",
    "s_list[\"price\"]= \"60Rs\"\n",
    "\n",
    "print(\"product details\")\n",
    "print()\n",
    "for i,j in s_list.items():\n",
    "    \n",
    "    print(f\"{i}  =  {j}\")\n",
    "    \n",
    "        \n"
   ]
  },
  {
   "cell_type": "markdown",
   "metadata": {},
   "source": [
    "22. A sports team wants to keep track of player statistics. \n",
    "How can Python lists be used to store data such as player names, scores, and assists?"
   ]
  },
  {
   "cell_type": "code",
   "execution_count": 5,
   "metadata": {},
   "outputs": [
    {
     "name": "stdout",
     "output_type": "stream",
     "text": [
      "albin score 50 with 2 assists\n"
     ]
    }
   ],
   "source": [
    "name= \"albin naga akash \"  #input(\"enter a player's name\")\n",
    "score= \"50 60 70 80\" #input(\"enter a score for each person\")\n",
    "assist=\"2 3 5\" #input(\"enter a assists for each person\")\n",
    "l_name=list(name.split(\" \"))\n",
    "l_score=list(score.split(\" \"))\n",
    "l_assist=list(assist.split(\" \"))\n",
    "n1=\"albin\"\n",
    "for name,score,assists in zip(l_name,l_score,l_assist):\n",
    "    if n1 in name:\n",
    "        print(f\"{name} score {score} with {assists} assists\")\n"
   ]
  },
  {
   "cell_type": "markdown",
   "metadata": {},
   "source": [
    "23. A movie rental service needs to display a list of available movies. \n",
    "How can Python lists be used to store movie titles and their availability status?"
   ]
  },
  {
   "cell_type": "code",
   "execution_count": 22,
   "metadata": {},
   "outputs": [
    {
     "name": "stdout",
     "output_type": "stream",
     "text": [
      "ps2\n",
      "movie is available\n",
      "100\n"
     ]
    }
   ],
   "source": [
    "movies=[\n",
    "    {\n",
    "    \"Title\":\"GoodNight\",\n",
    "    \"price\":60,\n",
    "    \"Aval\":\"Yes\"\n",
    "    },\n",
    "    {\n",
    "    \"Title\":\"Jailer\",\n",
    "    \"price\":200,\n",
    "    \"Aval\":\"No\"\n",
    "    },{\n",
    "    \"Title\":\"PS2\",\n",
    "    \"price\":100,\n",
    "    \"Aval\":\"Yes\"\n",
    "    },\n",
    "    {\n",
    "    \"Title\":\"RRR\",\n",
    "    \"price\":60,\n",
    "    \"Aval\":\"No\"\n",
    "    }\n",
    "]\n",
    "res=None\n",
    "movie=input(\"Enter a movie name:\")\n",
    "print(movie)\n",
    "for mov in movies:\n",
    "    if mov[\"Title\"].casefold() == movie.casefold() and mov[\"Aval\"] == \"Yes\":\n",
    "        res=mov\n",
    "        \n",
    "if res:\n",
    "    print(\"movie is available\")\n",
    "    print(res[\"price\"])\n",
    "else:\n",
    "    print(\"movie not available\")\n"
   ]
  },
  {
   "cell_type": "markdown",
   "metadata": {},
   "source": [
    "24.A school wants to store a list of students who made the honor roll. \n",
    "Write a Python program that allows teachers to add students to this list."
   ]
  },
  {
   "cell_type": "code",
   "execution_count": 69,
   "metadata": {},
   "outputs": [
    {
     "name": "stdout",
     "output_type": "stream",
     "text": [
      "amu\n",
      "Marks:[32, 35, 40, 41, 36]\n",
      "average=36.8\n",
      "amu\n",
      "184\n",
      "36.8\n",
      "E\n",
      "No Roll\n"
     ]
    }
   ],
   "source": [
    "h_roll=[\n",
    "    {\n",
    "    \"name\":\"Rakshita\",\n",
    "    \"marks\":[98,95,91,96,97],\n",
    "    },\n",
    "    \n",
    "    {\n",
    "    \"name\":\"Chandru\",\n",
    "    \"marks\":[85,89,87,84,85],\n",
    "    },\n",
    "    {\n",
    "    \"name\":\"Rani\",\n",
    "    \"marks\":[69,55,67,63,61]\n",
    "    },\n",
    "\n",
    "    {\"name\":\"Mani\",\n",
    "    \"marks\":[35,36,45,40,36]\n",
    "    },\n",
    "\n",
    "    {\n",
    "    \"name\":\"Kavi\",\n",
    "    \"marks\":[92,93,91,90,96]\n",
    "    },\n",
    "\n",
    "    {\n",
    "    \"name\":\"Amu\",\n",
    "    \"marks\":[32,35,40,41,36]\n",
    "    },\n",
    "\n",
    "    {\n",
    "    \"name\":\"John\",\n",
    "    \"marks\":[45,51,53,52,43]\n",
    "    },\n",
    "]\n",
    "\n",
    "name=input(\"enter a name:\")\n",
    "\n",
    "for roll in h_roll:\n",
    "    if roll[\"name\"].casefold() == name:\n",
    "        m=roll[\"marks\"]\n",
    "        pass_marks= [\"Pass\" if i >= 35 else \"Fail\" for i in m]\n",
    "        pof = all([1 if i == \"Pass\" else 0 for i in pass_marks])\n",
    "        final = \"Passed\" if pof else \"Failed\"\n",
    "        tot=sum(m) \n",
    "        avg=tot/len(m)  \n",
    "        grade = None\n",
    "        roll = None\n",
    "        if(avg>=90):\n",
    "            grade = \"A\"\n",
    "            roll = \"is Principal's Honor Roll\"\n",
    "\n",
    "        elif (avg>=80):\n",
    "            grade = \"B\"\n",
    "            roll = \"is Teachers Honor Roll\"\n",
    "    \n",
    "        elif(avg>=70):\n",
    "            grade = \"C\"\n",
    "            roll = \"is Student Honor Roll\"\n",
    "    \n",
    "        elif(avg>=50): \n",
    "            grade = \"D\"\n",
    "            roll = \"No Roll\"\n",
    "    \n",
    "        elif(avg>=35):\n",
    "            grade = \"E\"\n",
    "            roll = \"No Roll\"\n",
    "        else:       \n",
    "\n",
    "            grade = \"F\"\n",
    "            roll = \"No roll for failed student\"\n",
    "\n",
    "\n",
    "        print(name)\n",
    "        print(tot)\n",
    "        print(avg)\n",
    "        print(grade)\n",
    "        print(roll)\n"
   ]
  },
  {
   "cell_type": "code",
   "execution_count": 62,
   "metadata": {},
   "outputs": [
    {
     "name": "stdout",
     "output_type": "stream",
     "text": [
      "Passed\n"
     ]
    }
   ],
   "source": [
    "m = [38,35,40,41,36]\n",
    "pass_marks= [\"Pass\" if i >= 35 else \"Fail\" for i in m]\n",
    "\n",
    "pof = all([1 if i == \"Pass\" else 0 for i in pass_marks])\n",
    "print(\"Passed\" if pof else \"Failed\")"
   ]
  },
  {
   "cell_type": "markdown",
   "metadata": {},
   "source": [
    "25. A travel agency wants to keep track of customer reviews for different destinations. \n",
    "How can Python lists be used to store reviews and calculate average ratings?"
   ]
  },
  {
   "cell_type": "code",
   "execution_count": 50,
   "metadata": {},
   "outputs": [
    {
     "name": "stdout",
     "output_type": "stream",
     "text": [
      "Average rating of kerala is-6.48\n"
     ]
    }
   ],
   "source": [
    "destinations=[\n",
    "     {\n",
    "    \"des_name\":\"Ooty\",\n",
    "    \"price\"   :500,\n",
    "    \"rating\"  :[8, 7, 7.5, 2, 3]\n",
    "    },\n",
    "\n",
    "    {\n",
    "    \"des_name\":\"kerala\",\n",
    "    \"price\"   :1000,\n",
    "    \"rating\"  :[10,8,5.4,2,7]\n",
    "    },\n",
    "     {\n",
    "    \"des_name\":\"kodaikanal\",\n",
    "    \"price\"   :800,\n",
    "    \"rating\"  :[6,4,8,7,6.5,5]\n",
    "    }, \n",
    "    {\n",
    "    \"des_name\":\"kovai\",\n",
    "    \"price\"   :700,\n",
    "    \"rating\"    :[5,6,4.5,3,7,8,40]\n",
    "    }\n",
    "]\n",
    "place=input(\"enter a desination\")\n",
    "for des in destinations:\n",
    "    r=des[\"rating\"]\n",
    "    if des[\"des_name\"]==place:\n",
    "        avg=sum(r)/len(des[\"rating\"])\n",
    "        print(f\"Average rating of {des['des_name']} is-\" f\"%1.2f\" %(avg))"
   ]
  },
  {
   "cell_type": "markdown",
   "metadata": {},
   "source": [
    "Dictionary\n",
    "\n",
    "26. An online dictionary wants to provide word definitions. \n",
    "How can Python dictionaries be used to store word-definition pairs?"
   ]
  },
  {
   "cell_type": "code",
   "execution_count": 4,
   "metadata": {},
   "outputs": [
    {
     "name": "stdout",
     "output_type": "stream",
     "text": [
      "{'Wikipedia': 'A dictionary is a listing of lexemes from the lexicon of one or more specific languages, often arranged alphabetically,which may include information on definitions, usage, etymologies, pronunciations, translation, etc. It is a lexicographical reference that shows inter-relationships among the data. '}\n"
     ]
    }
   ],
   "source": [
    "dictionary={\n",
    "        \"Wikipedia\":\"A dictionary is a listing of lexemes from the lexicon of one or more specific languages, often arranged alphabetically,\"\n",
    "                    \"which may include information on definitions, usage, etymologies, pronunciations, translation, etc. \"\n",
    "                    \"It is a lexicographical reference that shows inter-relationships among the data. \"\n",
    "    }\n",
    "\n",
    "print(dictionary)"
   ]
  },
  {
   "cell_type": "markdown",
   "metadata": {},
   "source": [
    "27. A contact management app needs to store and retrieve contact information. \n",
    "How can Python dictionaries be used to store names and phone numbers?"
   ]
  },
  {
   "cell_type": "code",
   "execution_count": 70,
   "metadata": {},
   "outputs": [
    {
     "name": "stdout",
     "output_type": "stream",
     "text": [
      "details about indhu\n",
      "{'name': 'Indhu', 'p_number': '9572836548', 'address': {'area': 'Saravanampatti', 'city': 'Cimbatore', 'state': 'Tamilnadu', 'pincode': 641035}}\n"
     ]
    }
   ],
   "source": [
    "\n",
    "management=[\n",
    "    {\n",
    "    \"name\":\"Indhu\",\n",
    "    \"p_number\":\"7852654251\",\n",
    "    \"address\":{\n",
    "            \"area\": \"SRP\",\n",
    "            \"city\": \"Coimbatore\",\n",
    "            \"state\": \"Tamilnadu\",\n",
    "            \"pincode\": 641035\n",
    "        },\n",
    "},\n",
    "   {\n",
    "     \"name\":\"Indhu\",\n",
    "     \"p_number\":\"9572836548\",\n",
    "     \"address\":{\n",
    "            \"area\": \"Saravanampatti\",\n",
    "            \"city\": \"Cimbatore\",\n",
    "            \"state\": \"Tamilnadu\",\n",
    "            \"pincode\": 641035\n",
    "        },\n",
    "   },\n",
    "   \n",
    "   {\n",
    "       \"name\":\"Rakshita\",\n",
    "       \"p_number\":\"9658214725\",\n",
    "       \"address\":{\n",
    "            \"area\": \"Gandhi nagar\",\n",
    "            \"city\": \"Trichy\",\n",
    "            \"state\": \"Tamilnadu\",\n",
    "            \"pincode\": 642001\n",
    "        }\n",
    "    }\n",
    "\n",
    "]\n",
    "p_no=\"\"\n",
    "\n",
    "name1=input(\"Enter a name:\")\n",
    "\n",
    "p_no=input(\"enter a phone number last 3 digit:\")\n",
    "print(f\"details about {name1}\")\n",
    "for m in management:\n",
    "    p=m[\"p_number\"]\n",
    "    if p.endswith(p_no) and m[\"name\"].casefold() == name1:\n",
    "        print(m)\n",
    "   \n",
    "    "
   ]
  },
  {
   "cell_type": "markdown",
   "metadata": {},
   "source": [
    "28. A restaurant wants to create a menu that includes dish names and their prices. \n",
    "How can Python dictionaries be used to represent the menu items?"
   ]
  },
  {
   "cell_type": "code",
   "execution_count": 4,
   "metadata": {},
   "outputs": [
    {
     "name": "stdout",
     "output_type": "stream",
     "text": [
      "                                                            SRKP Hotel                                                            \n",
      "Opening:7.00AM                                                                                                 Closing:11.00PM\n",
      "\n",
      "Tiffin:\n",
      "\n",
      "Dish:Tiffin...............Price:{'Idly': 10, 'Dosa': 40, 'Parotta': 15}\n"
     ]
    }
   ],
   "source": [
    "restaurant=[\n",
    "    {\n",
    "        \"Briyani\":{\n",
    "            \"Empty Briyani\": 100,\n",
    "            \"Chicken Briyani\":150,\n",
    "            \"Mutton Briyani\": 200\n",
    "        },\n",
    "    },\n",
    "     {\n",
    "         \"Gravy\":{\n",
    "            \"Fish gravy\":100,\n",
    "            \"chicken gravy\":130,\n",
    "            \"Mutton Gravy\":150\n",
    "     },\n",
    "         \n",
    "     },\n",
    "    \n",
    "    {\n",
    "        \"Side Dish\":{\n",
    "            \"Mutton Sukka\":200,\n",
    "            \"Pepper Chicken\":120,\n",
    "            \"Fish Fry\":100\n",
    "        },\n",
    "       \n",
    "    },\n",
    "    \n",
    "    {\n",
    "        \"Tiffin\":{\n",
    "            \"Idly\":10,\n",
    "            \"Dosa\":40,\n",
    "            \"Parotta\":15\n",
    "    }\n",
    "       \n",
    "    }\n",
    "    \n",
    "]\n",
    "print(f\"SRKP Hotel\".center(130))\n",
    "print(f\"Opening:7.00AM\".ljust(110),f\"Closing:11.00PM\")\n",
    "print()\n",
    "dish=\"Tiffin\"# input(\"Which type of dish do you like? \")\n",
    "print(f\"{dish}:\")\n",
    "print()\n",
    "\n",
    "for res in restaurant: # loops = 4\n",
    "    for i,j in res.items():\n",
    "    \n",
    "        if dish in res:  \n",
    "            print(f\"Dish:{i}...............Price:{j}\")"
   ]
  },
  {
   "cell_type": "code",
   "execution_count": 92,
   "metadata": {},
   "outputs": [
    {
     "name": "stdout",
     "output_type": "stream",
     "text": [
      "                                                            SRKP Hotel                                                            \n",
      "Opening:7.00AM                                                                                                 Closing:11.00PM\n",
      "\n",
      "Gravy:\n",
      "\n",
      "Dish:Fish gravy...............Price:100\n",
      "Dish:chicken gravy...............Price:130\n",
      "Dish:Mutton Gravy...............Price:150\n"
     ]
    }
   ],
   "source": [
    "restaurant=[\n",
    "    {\n",
    "        \"Briyani\":{\n",
    "            \"Empty Briyani\": 100,\n",
    "            \"Chicken Briyani\":150,\n",
    "            \"Mutton Briyani\": 200\n",
    "        },\n",
    "    },\n",
    "     {\n",
    "         \"Gravy\":{\n",
    "            \"Fish gravy\":100,\n",
    "            \"chicken gravy\":130,\n",
    "            \"Mutton Gravy\":150\n",
    "     },\n",
    "         \n",
    "     },\n",
    "    \n",
    "    {\n",
    "        \"Side Dish\":{\n",
    "            \"Mutton Sukka\":200,\n",
    "            \"Pepper Chicken\":120,\n",
    "            \"Fish Fry\":100\n",
    "        },\n",
    "       \n",
    "    },\n",
    "    \n",
    "    {\n",
    "        \"Tiffin\":{\n",
    "            \"Idly\":10,\n",
    "            \"Dosa\":40,\n",
    "            \"Parotta\":15\n",
    "    }\n",
    "       \n",
    "    }\n",
    "    \n",
    "]\n",
    "print(f\"SRKP Hotel\".center(130))\n",
    "print(f\"Opening:7.00AM\".ljust(110),f\"Closing:11.00PM\")\n",
    "print()\n",
    "dish=\"Gravy\"# input(\"Which type of dish do you like? \")\n",
    "print(f\"{dish}:\")\n",
    "print()\n",
    "item = None\n",
    "for res in restaurant: # loops = 4\n",
    "    if dish in res:\n",
    "        item = res[dish]\n",
    "        \n",
    "        break\n",
    "        \n",
    "for i,j in item.items(): # loops = 3\n",
    "    print(f\"Dish:{i}...............Price:{j}\")\n"
   ]
  },
  {
   "cell_type": "code",
   "execution_count": 4,
   "metadata": {},
   "outputs": [
    {
     "ename": "ValueError",
     "evalue": "too many values to unpack (expected 2)",
     "output_type": "error",
     "traceback": [
      "\u001b[1;31m---------------------------------------------------------------------------\u001b[0m",
      "\u001b[1;31mValueError\u001b[0m                                Traceback (most recent call last)",
      "Cell \u001b[1;32mIn[4], line 4\u001b[0m\n\u001b[0;32m      2\u001b[0m \u001b[39mfor\u001b[39;00m res \u001b[39min\u001b[39;00m restaurant:\n\u001b[0;32m      3\u001b[0m     \u001b[39mif\u001b[39;00m dish \u001b[39min\u001b[39;00m res:\n\u001b[1;32m----> 4\u001b[0m         \u001b[39mfor\u001b[39;00m item,price \u001b[39min\u001b[39;00m res[dish]:\n\u001b[0;32m      5\u001b[0m             \u001b[39mprint\u001b[39m(item\u001b[39m.\u001b[39mprice)\n",
      "\u001b[1;31mValueError\u001b[0m: too many values to unpack (expected 2)"
     ]
    }
   ],
   "source": [
    "dish=\"Tiffin\"# input(\"Which type of dish do you like? \")\n",
    "for res in restaurant:\n",
    "    if dish in res:\n",
    "        for item,price in res[dish]:\n",
    "            print(item.price)"
   ]
  },
  {
   "cell_type": "markdown",
   "metadata": {},
   "source": [
    "29. An event management system needs to track attendees and their ticket types (e.g., VIP, regular). \n",
    "How can Python dictionaries be used to store this information?"
   ]
  },
  {
   "cell_type": "code",
   "execution_count": 95,
   "metadata": {},
   "outputs": [
    {
     "name": "stdout",
     "output_type": "stream",
     "text": [
      "Your in VIP list with Ticket number is  26 and Seat number is 81\n"
     ]
    }
   ],
   "source": [
    "\n",
    "\n",
    "mgmt = [\n",
    "    {\n",
    "        \"type\": \"VIP\",\n",
    "        \"ticket_no\": 25,\n",
    "        \"seat_no\": 80\n",
    "    },\n",
    "\n",
    "    {\n",
    "        \"type\": \"VIP\",\n",
    "        \"ticket_no\": 26,\n",
    "        \"seat_no\": 81\n",
    "    },\n",
    "\n",
    "     {\n",
    "        \"type\": \"GENERAL\",\n",
    "        \"ticket_no\": 65,\n",
    "        \"seat_no\": 15\n",
    "    },\n",
    "\n",
    "     {\n",
    "        \"type\": \"GENERAL\",\n",
    "        \"ticket_no\": 5,\n",
    "        \"seat_no\": 10\n",
    "    }\n",
    "]\n",
    "t_no = \"26\"\n",
    "ty = \"VIP\"\n",
    "\n",
    "for man in mgmt:\n",
    "    if ty in man[\"type\"]:\n",
    "        \n",
    "        if t_no in str(man[\"ticket_no\"]):\n",
    "            print(f\"Your in {man['type']} list with Ticket number is  {man['ticket_no']} and Seat number is {man['seat_no']}\")\n"
   ]
  },
  {
   "cell_type": "markdown",
   "metadata": {},
   "source": [
    "30. A car rental service needs to manage its fleet of vehicles, including vehicle details such as make, model, and availability. \n",
    "How can Python dictionaries be used to represent the fleet?"
   ]
  },
  {
   "cell_type": "code",
   "execution_count": 122,
   "metadata": {},
   "outputs": [
    {
     "name": "stdout",
     "output_type": "stream",
     "text": [
      "The normal model of cycle price is 4k\n"
     ]
    }
   ],
   "source": [
    "vehicles=[\n",
    "        {\n",
    "             \"type\":\"car\",\n",
    "            \"model\":\"Toyota Vellfire\", \n",
    "            \"Price\":\"15lakh\", \n",
    "            \"aval\":\"yes\"\n",
    "        },\n",
    "        {\n",
    "            \"type\":\"car\",\n",
    "            \"model\":\"BMW X5\", \n",
    "            \"Price\":\"25lakh\", \n",
    "            \"aval\":\"yes\"\n",
    "        },\n",
    "        {\n",
    "            \"type\":\"Bike\",\n",
    "            \"model\":\"honda\",\n",
    "            \"Price\":\"1.5lakh\",\n",
    "            \"aval\":\"yes\"\n",
    "        },\n",
    "        {\n",
    "            \"type\":\"car\",\n",
    "            \"model\":\"pulsar\",\n",
    "            \"Price\":\"2.5lakh\",\n",
    "            \"aval\":\"no\"\n",
    "        },\n",
    "        {\n",
    "            \"type\":\"cycle\",\n",
    "            \"model\":\"gear\",\n",
    "            \"Price\":\"8k\",\n",
    "            \"aval\":\"no\"\n",
    "        },\n",
    "        {\n",
    "            \"type\":\"cycle\",\n",
    "            \"model\":\"normal\",\n",
    "            \"Price\":\"4k\",\n",
    "            \"aval\":\"yes\"\n",
    "        }\n",
    "]\n",
    "\n",
    "veh=\"cycle\" #input(\"which type of vehicle do you like to buy:\")\n",
    "m1=\"normal\" #input(\"which type of model do you like to buy:\")\n",
    "\n",
    "for vehicle in vehicles:\n",
    "   if veh in vehicle[\"type\"]:\n",
    "       if m1 in vehicle[\"model\"]:\n",
    "            print(f\"The {m1} model of {veh} price is {vehicle['Price']}\")    "
   ]
  },
  {
   "cell_type": "markdown",
   "metadata": {},
   "source": [
    "Data Types\n",
    "31. A scientific experiment records temperature readings at different times. \n",
    "What Python data type is suitable for storing these temperature values?"
   ]
  },
  {
   "cell_type": "code",
   "execution_count": null,
   "metadata": {},
   "outputs": [],
   "source": []
  },
  {
   "cell_type": "markdown",
   "metadata": {},
   "source": [
    "32. A financial application needs to store and perform calculations with currency amounts. \n",
    "What Python data type is appropriate for handling money"
   ]
  },
  {
   "cell_type": "code",
   "execution_count": 3,
   "metadata": {},
   "outputs": [
    {
     "name": "stdout",
     "output_type": "stream",
     "text": [
      "amount is:567.99\n"
     ]
    }
   ],
   "source": [
    "amount=float(input(\"enter the amount\"))\n",
    "print(\"amount is:%1.2f\" %(amount))\n"
   ]
  },
  {
   "cell_type": "markdown",
   "metadata": {},
   "source": [
    "33. An educational platform wants to store and manipulate student ages. \n",
    "Which Python data type is best suited for this purpose?"
   ]
  },
  {
   "cell_type": "code",
   "execution_count": 6,
   "metadata": {},
   "outputs": [
    {
     "name": "stdout",
     "output_type": "stream",
     "text": [
      "student age is:15\n"
     ]
    }
   ],
   "source": [
    "stud_age=int(input(\"enter a student age\"))\n",
    "print(f\"student age is:{stud_age}\")"
   ]
  },
  {
   "cell_type": "markdown",
   "metadata": {},
   "source": [
    "34. A GPS navigation app needs to represent geographical coordinates (latitude and longitude). \n",
    "Which Python data type should be used for storing these coordinates?"
   ]
  },
  {
   "cell_type": "code",
   "execution_count": 3,
   "metadata": {},
   "outputs": [
    {
     "name": "stdout",
     "output_type": "stream",
     "text": [
      "['1.356', '2.54789', '3.6889']\n",
      "['2.57964', '3.6588', '1.2569']\n",
      "latitude values:\n",
      "1.356\n",
      "2.54789\n",
      "3.6889\n",
      "longitude values:\n",
      "2.57964\n",
      "3.6588\n",
      "1.2569\n"
     ]
    }
   ],
   "source": [
    "latitude=input(\"enter a latitude value\")\n",
    "longitude=input(\"enter a longitude value\")\n",
    "l_lat=list(latitude.split(\" \"))\n",
    "l_long=list(longitude.split(\" \"))\n",
    "\n",
    "\n",
    "print(\"latitude values:\")\n",
    "for i in l_lat:\n",
    "    print(i)\n",
    "\n",
    "print(\"longitude values:\")\n",
    "for i in l_long:\n",
    "    print(i)\n"
   ]
  },
  {
   "cell_type": "markdown",
   "metadata": {},
   "source": [
    "35. A social media platform wants to store the number of likes for each post. \n",
    "What Python data type is ideal for keeping track of these counts?"
   ]
  },
  {
   "cell_type": "code",
   "execution_count": 19,
   "metadata": {},
   "outputs": [
    {
     "name": "stdout",
     "output_type": "stream",
     "text": [
      "8.1 is average likes of Kaavaalaa\n"
     ]
    }
   ],
   "source": [
    "s_media=[\n",
    "    \n",
    "    \n",
    "        {\"post\":\"Life moves pretty fast…—Ferris Buellers Day Off\",\n",
    "        \"likes\":[10,5.5,6,7,8,3]},\n",
    "        \n",
    "        {\"post\":\"Saamee Enakku Oru Unmai Therinjaavanum \",\n",
    "        \"likes\":[1,5,10,6,4]},\n",
    "\n",
    "        {\"post\": \"Kaavaalaa\",\n",
    "          \"likes\":[10,8,6,7,9.5]}\n",
    "    \n",
    "]\n",
    "l=0\n",
    "pform=input(\"which type of social media you like to views?\")\n",
    "for s in s_media:\n",
    "  if pform in s.values():\n",
    "    l=s[\"likes\"]\n",
    "    avg=sum(l)/len(s[\"likes\"])\n",
    "    print(f\"{avg} is average likes of {s['post']}\")\n",
    "\n",
    "\n"
   ]
  },
  {
   "cell_type": "markdown",
   "metadata": {},
   "source": [
    "Statements\n",
    "36. A ticketing system needs to print different messages for different types of tickets (e.g., VIP, regular). \n",
    "How can Python if statements be used to achieve this?"
   ]
  },
  {
   "cell_type": "code",
   "execution_count": 54,
   "metadata": {},
   "outputs": [
    {
     "name": "stdout",
     "output_type": "stream",
     "text": [
      "dict_values([[15, 20], [12, 13]])\n"
     ]
    }
   ],
   "source": [
    "tickets=[\n",
    "    \n",
    "    {\n",
    "        \"VIP\":\n",
    "            {\n",
    "                \n",
    "            }\n",
    "            \n",
    "    },\n",
    "    {\n",
    "        \"reserved\":\n",
    "                \n",
    "                \n",
    "    },\n",
    "        {\"general\":\n",
    "           \n",
    "        }\n",
    "]\n",
    "\n",
    "    \n",
    "\n",
    "        "
   ]
  },
  {
   "cell_type": "markdown",
   "metadata": {},
   "source": [
    "37. An online store wants to apply discounts to products based on their category. \n",
    "How can Python if-else statements be used to calculate the discounted price?"
   ]
  },
  {
   "cell_type": "code",
   "execution_count": 35,
   "metadata": {},
   "outputs": [
    {
     "name": "stdout",
     "output_type": "stream",
     "text": [
      "30.0\n"
     ]
    }
   ],
   "source": [
    "# product=input(\"enter the product type:\")\n",
    "# if product==\"rice\":\n",
    "#     t_rice=input(\"enter a rice type\")\n",
    "#     print(t_rice)\n",
    "#     if t_rice==\"normal\":\n",
    "#         print(\"discount for normal rice is 10%\")\n",
    "#     elif t_rice==\"bassmati\":\n",
    "#         print(\"discount for the bassmati rice is 5%\")\n",
    "#     else:\n",
    "#         print(\"no discount other rices\")\n",
    "\n",
    "\n",
    "# if product==\"oil\":\n",
    "#     t_oil=input(\"enter oil\")\n",
    "#     print(t_oil)\n",
    "#     if t_oil==\"coconut\":\n",
    "#         print(\"discount for the coconut oil is 2%\")\n",
    "#     elif t_oil==\"custard\":\n",
    "#         print(\"discount for the custard oil 5%\")\n",
    "#     else:\n",
    "#         print(\"no discount other oils\")\n",
    "# print(\"have a nice day\")\n",
    "    \n",
    "products= { \n",
    "    \"rice\":{\"normal\":50,\"basmaati\":100},\n",
    "    \"oil\":{\"coconut\":80,\"olive\":200}\n",
    "\n",
    "    }\n",
    "\n",
    "product = \"rice\"\n",
    "p_type = \"normal\"\n",
    "discount = 10\n",
    "\n",
    "price = 1\n",
    "if product in products:\n",
    "    if p_type in products[product]:\n",
    "        price = products[product][p_type]\n",
    "\n",
    "discount_price = price - ((discount/price) * 100)\n",
    "print(discount_price)"
   ]
  },
  {
   "cell_type": "markdown",
   "metadata": {},
   "source": [
    "38. A game developer wants to implement a game-over condition when a player's health reaches zero. \n",
    "How can Python if statements be used to check and handle this condition?"
   ]
  },
  {
   "cell_type": "code",
   "execution_count": 1,
   "metadata": {},
   "outputs": [
    {
     "name": "stdout",
     "output_type": "stream",
     "text": [
      "player is good condition\n",
      "player is good condition\n",
      "player is good condition\n",
      "player is good condition\n",
      "game is over\n"
     ]
    }
   ],
   "source": [
    "\n",
    "while True:\n",
    "    g_condition=int(input(\"enter the health condition \"))\n",
    "    print(\"player is good condition\")\n",
    "    if g_condition==0:\n",
    "        print(\"game is over\")\n",
    "        break"
   ]
  },
  {
   "cell_type": "markdown",
   "metadata": {},
   "source": [
    "39. A classroom management system needs to assign grades to students based on their scores. \n",
    "How can Python if-elif-else statements be used to determine the grade?"
   ]
  },
  {
   "cell_type": "code",
   "execution_count": 50,
   "metadata": {},
   "outputs": [
    {
     "name": "stdout",
     "output_type": "stream",
     "text": [
      "Fail\n"
     ]
    }
   ],
   "source": [
    "n=input(\"enter a name\")\n",
    "t=int(input(\"enter a Tamil:\"))\n",
    "e=int(input(\"enter a English:\"))\n",
    "m=int(input(\"enter a Maths:\"))\n",
    "s=int(input(\"enter a science:\"))\n",
    "sl=int(input(\"enter a Social:\"))\n",
    "if (t>=35) and (e>=35) and (m>=35) and (s>=35) and (sl>=35):\n",
    "    print(\"Pass\")\n",
    "    tot=t+e+m+s+sl\n",
    "    print(f\"total={tot}\")\n",
    "    avg=tot/5\n",
    "    print(f\"average={avg}\")\n",
    "    if(avg>=90):\n",
    "        print(\"grade is A\")\n",
    "    elif(avg>=80) and (avg<90):\n",
    "        print(\"grade is B\")\n",
    "    elif(avg>=60) and (avg<80):\n",
    "        print(\"grade is C\")\n",
    "    elif(avg>=40) and (avg<60):\n",
    "        print(\"grade is D\")\n",
    "    elif(avg>=35) and (avg<40):\n",
    "        print(\"grade is E\")\n",
    "else:\n",
    "    print(\"Fail\")"
   ]
  },
  {
   "cell_type": "markdown",
   "metadata": {},
   "source": [
    "40. A temperature monitoring system needs to send alerts when the temperature exceeds a certain threshold.\n",
    " How can Python if statements be used to trigger alerts?"
   ]
  },
  {
   "cell_type": "code",
   "execution_count": 52,
   "metadata": {},
   "outputs": [
    {
     "name": "stdout",
     "output_type": "stream",
     "text": [
      "tempature in fahrenheit:98\n",
      "tempetature is high\n",
      "Need to slow  the tempature level \n"
     ]
    }
   ],
   "source": [
    "t_fah=int(input(\"enter a tempature\"))\n",
    "print(f\"tempature in fahrenheit:{t_fah}\")\n",
    "if t_fah<=75:\n",
    "    print(\"tempature is normal\")\n",
    "else:\n",
    "    print(\"tempetature is high\")\n",
    "    print(\"Need to slow  the tempature level \")\n"
   ]
  },
  {
   "cell_type": "markdown",
   "metadata": {},
   "source": [
    "If Conditions:\n",
    "41. A user authentication system needs to grant access only to users with the correct username and password. \n",
    "How can Python if conditions be used for authentication?"
   ]
  },
  {
   "cell_type": "code",
   "execution_count": 57,
   "metadata": {},
   "outputs": [
    {
     "name": "stdout",
     "output_type": "stream",
     "text": [
      "access to the system\n"
     ]
    }
   ],
   "source": [
    "u_name=input(\"enter a username:\")\n",
    "u_check=input(f\"is correct username?{u_name}\")\n",
    "pw=input(\"enter a password:\")\n",
    "p_check=input(f\"is correct username?{pw}\")\n",
    "if u_check==\"yes\" and p_check==\"yes\":\n",
    "    print(\"access to the system\")\n",
    "else:\n",
    "    print(\"Reenter the username and password\")\n"
   ]
  },
  {
   "cell_type": "markdown",
   "metadata": {},
   "source": [
    "42. A car rental service wants to offer discounts based on the rental duration (e.g., 3 days or more). \n",
    "How can Python if conditions be used to calculate the discounted price?"
   ]
  },
  {
   "cell_type": "code",
   "execution_count": 58,
   "metadata": {},
   "outputs": [
    {
     "name": "stdout",
     "output_type": "stream",
     "text": [
      "rental days for car: 1\n",
      "no discount\n"
     ]
    }
   ],
   "source": [
    "days=int(input(\"enter a rental days for car:\"))\n",
    "print(f\"rental days for car: {days}\")\n",
    "if days>2:\n",
    "    print(\"discount for the car rent 5%\")\n",
    "else:\n",
    "    print(\"no discount\")"
   ]
  },
  {
   "cell_type": "markdown",
   "metadata": {},
   "source": [
    "43. A student registration system needs to determine if a student is eligible for a particular course based on their prior qualifications. \n",
    "How can Python if conditions be used to check eligibility?"
   ]
  },
  {
   "cell_type": "code",
   "execution_count": 54,
   "metadata": {},
   "outputs": [
    {
     "name": "stdout",
     "output_type": "stream",
     "text": [
      "95.4\n",
      "rakshita is eliglible for the course\n"
     ]
    }
   ],
   "source": [
    "courses=[\n",
    "    {\n",
    "    \"name\":\"Rakshita\",\n",
    "    \"marks\":[98,95,91,96,97],\n",
    "    },\n",
    "    \n",
    "    {\n",
    "    \"name\":\"Chandru\",\n",
    "    \"marks\":[85,89,87,84,85],\n",
    "    },\n",
    "    {\n",
    "    \"name\":\"Rani\",\n",
    "    \"marks\":[69,55,67,63,61]\n",
    "    },\n",
    "\n",
    "    {\"name\":\"Mani\",\n",
    "    \"marks\":[35,36,45,40,36]\n",
    "    },\n",
    "\n",
    "    {\n",
    "    \"name\":\"Kavi\",\n",
    "    \"marks\":[92,93,91,90,96]\n",
    "    },\n",
    "\n",
    "    {\n",
    "    \"name\":\"Amu\",\n",
    "    \"marks\":[32,35,40,41,36]\n",
    "    },\n",
    "\n",
    "    {\n",
    "    \"name\":\"John\",\n",
    "    \"marks\":[45,51,53,52,43]\n",
    "    },\n",
    "]\n",
    "\n",
    "name=input(\"enter a name:\")\n",
    "course = None\n",
    "for cou in courses:\n",
    "    if cou[\"name\"].casefold() == name:\n",
    "        m=cou[\"marks\"]\n",
    "        pass_marks= [\"Pass\" if i >= 35 else \"Fail\" for i in m]\n",
    "        pof = all([1 if i == \"Pass\" else 0 for i in pass_marks])\n",
    "        final = \"Passed\" if pof else \"Failed\"\n",
    "        tot=sum(m) \n",
    "        avg=tot/len(m)  \n",
    "       \n",
    "        \n",
    "        if (avg>=80):\n",
    "            print(avg)\n",
    "            print(f\"{name} is eliglible for the course\")\n",
    "                \n",
    "        else:       \n",
    "            print(\"remaining students not eligible for course\")\n",
    "        \n"
   ]
  },
  {
   "cell_type": "markdown",
   "metadata": {},
   "source": [
    "44. A traffic monitoring system needs to detect if a vehicle is speeding. \n",
    "How can Python if conditions be used to issue a speeding ticket when necessary?"
   ]
  },
  {
   "cell_type": "code",
   "execution_count": 82,
   "metadata": {},
   "outputs": [
    {
     "name": "stdout",
     "output_type": "stream",
     "text": [
      "speed of the vehicle:80\n",
      "vehichle is speed\n"
     ]
    }
   ],
   "source": [
    "speed=int(input(\"enter a speed for the vehicle:\"))\n",
    "print(f\"speed of the vehicle:{speed}\")\n",
    "if speed<=50:\n",
    "    print(\"the speed of the vehicle is normal\")\n",
    "else:\n",
    "    print(\"vehichle is speeding\")\n"
   ]
  },
  {
   "cell_type": "markdown",
   "metadata": {},
   "source": [
    "45. A game developer wants to check if a player has reached a certain level to unlock new features.\n",
    " How can Python if conditions be used to control feature access?\n"
   ]
  },
  {
   "cell_type": "code",
   "execution_count": 84,
   "metadata": {},
   "outputs": [
    {
     "name": "stdout",
     "output_type": "stream",
     "text": [
      "level of the game:mid\n",
      "still move some levels\n"
     ]
    }
   ],
   "source": [
    "level=input(\"enter a start or mid or high:?\")\n",
    "print(f\"level of the game:{level}\")\n",
    "if level==\"start\":\n",
    "    print(\"Its starting level lock the features\")\n",
    "elif level==\"mid\":\n",
    "    print(\"still move some levels\")\n",
    "elif level==\"high\":\n",
    "    print(\"unlock the new features now\")\n",
    "else:\n",
    "    print(\"play again\")\n"
   ]
  },
  {
   "cell_type": "markdown",
   "metadata": {},
   "source": [
    "For Loops\n",
    "46. A calendar application needs to print the days of the week. \n",
    "How can Python for loops be used to iterate through the days and print them?"
   ]
  },
  {
   "cell_type": "code",
   "execution_count": 21,
   "metadata": {},
   "outputs": [
    {
     "ename": "TypeError",
     "evalue": "strptime() argument 1 must be str, not datetime.datetime",
     "output_type": "error",
     "traceback": [
      "\u001b[1;31m---------------------------------------------------------------------------\u001b[0m",
      "\u001b[1;31mTypeError\u001b[0m                                 Traceback (most recent call last)",
      "Cell \u001b[1;32mIn[21], line 3\u001b[0m\n\u001b[0;32m      1\u001b[0m \u001b[39mimport\u001b[39;00m \u001b[39mdatetime\u001b[39;00m\n\u001b[0;32m      2\u001b[0m \u001b[39mimport\u001b[39;00m \u001b[39mcalendar\u001b[39;00m\n\u001b[1;32m----> 3\u001b[0m now\u001b[39m=\u001b[39mdatetime\u001b[39m.\u001b[39;49mdatetime\u001b[39m.\u001b[39;49mnow()\u001b[39m.\u001b[39;49mstrptime(now,\u001b[39m\"\u001b[39;49m\u001b[39m%\u001b[39;49m\u001b[39mY-\u001b[39;49m\u001b[39m%\u001b[39;49m\u001b[39mm-\u001b[39;49m\u001b[39m%d\u001b[39;49;00m\u001b[39m\"\u001b[39;49m)\u001b[39m.\u001b[39mweekday()\n\u001b[0;32m      4\u001b[0m day\u001b[39m=\u001b[39mcalenar\u001b[39m.\u001b[39mday[now]\n\u001b[0;32m      5\u001b[0m \u001b[39mprint\u001b[39m(day)\n",
      "\u001b[1;31mTypeError\u001b[0m: strptime() argument 1 must be str, not datetime.datetime"
     ]
    }
   ],
   "source": [
    "import datetime\n",
    "import calendar\n",
    "now=datetime.datetime.now().strptime(now,\"%Y-%m-%d\").weekday()\n",
    "day=calenar.day[now]\n",
    "print(day)\n",
    "    \n",
    "\n",
    "\n"
   ]
  },
  {
   "cell_type": "markdown",
   "metadata": {},
   "source": [
    "47. A scientific experiment records data at regular intervals. \n",
    "How can Python for loops be used to iterate through the time intervals and collect data points at each interval? \n",
    "Write a Python code snippet that demonstrates how a for loop can be employed to automate the data collection process during the experiment."
   ]
  },
  {
   "cell_type": "code",
   "execution_count": null,
   "metadata": {},
   "outputs": [],
   "source": []
  },
  {
   "cell_type": "markdown",
   "metadata": {},
   "source": [
    "While Loops\n",
    "48. An online game wants to keep running until the player decides to exit. \n",
    "How can Python while loops be used to repeatedly prompt the player if they want to continue playing, and exit the game when they choose to quit?"
   ]
  },
  {
   "cell_type": "code",
   "execution_count": 1,
   "metadata": {},
   "outputs": [
    {
     "name": "stdout",
     "output_type": "stream",
     "text": [
      "\n",
      "play\n",
      "play\n",
      "play\n",
      "play\n",
      "exit\n",
      "exit the game\n"
     ]
    }
   ],
   "source": [
    "\n",
    "while True:\n",
    "   player=input(\"shall player play or exit?\")\n",
    "   print(player)\n",
    "   if player==\"exit\":\n",
    "        print(\"exit the game\")\n",
    "        break"
   ]
  },
  {
   "cell_type": "markdown",
   "metadata": {},
   "source": [
    "49. A program needs to continuously monitor a sensor and take action when a certain condition is met (e.g., temperature exceeding a threshold). How can Python while loops be used to achieve this real-time monitoring and control?"
   ]
  },
  {
   "cell_type": "code",
   "execution_count": null,
   "metadata": {},
   "outputs": [],
   "source": []
  },
  {
   "cell_type": "markdown",
   "metadata": {},
   "source": [
    "50. A user is asked to enter a series of numbers until they enter a negative number to signal the end of input. How can Python while loops be used to repeatedly read user input and stop when a negative number is entered?"
   ]
  },
  {
   "cell_type": "code",
   "execution_count": 32,
   "metadata": {},
   "outputs": [
    {
     "name": "stdout",
     "output_type": "stream",
     "text": [
      "45\n",
      "4553\n",
      "15\n",
      "45\n",
      "-5\n"
     ]
    }
   ],
   "source": [
    "\n",
    "while True:\n",
    "    n=int(input(\"enter a numbers:\"))\n",
    "    print(n)\n",
    "    if n < 0:\n",
    "        break\n",
    "    \n"
   ]
  }
 ],
 "metadata": {
  "kernelspec": {
   "display_name": "Python 3 (ipykernel)",
   "language": "python",
   "name": "python3"
  },
  "language_info": {
   "codemirror_mode": {
    "name": "ipython",
    "version": 3
   },
   "file_extension": ".py",
   "mimetype": "text/x-python",
   "name": "python",
   "nbconvert_exporter": "python",
   "pygments_lexer": "ipython3",
   "version": "3.10.11"
  }
 },
 "nbformat": 4,
 "nbformat_minor": 2
}
