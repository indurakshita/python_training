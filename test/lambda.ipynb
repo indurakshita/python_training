{
 "cells": [
  {
   "cell_type": "code",
   "execution_count": null,
   "metadata": {},
   "outputs": [],
   "source": [
    "1. Write a Python program to create a lambda function that adds 15 to a given number \n",
    "passed in as an argument, also create a lambda function that multiplies argument x with argument y \n",
    "and prints the result.\n",
    "Sample Output:\n",
    "25\n",
    "48"
   ]
  },
  {
   "cell_type": "code",
   "execution_count": 11,
   "metadata": {},
   "outputs": [
    {
     "name": "stdout",
     "output_type": "stream",
     "text": [
      "25\n",
      "50\n"
     ]
    }
   ],
   "source": [
    "r=lambda a: a+15\n",
    "print(r(10))\n",
    "r=lambda x,y: x*y\n",
    "print(r(10,5))"
   ]
  },
  {
   "cell_type": "markdown",
   "metadata": {},
   "source": [
    "2.Write a Python program to create a function that takes one argument, and that argument will be multiplied with an unknown given number.\n",
    "Sample Output:\n",
    "Double the number of 15 = 30\n",
    "Triple the number of 15 = 45"
   ]
  },
  {
   "cell_type": "code",
   "execution_count": 19,
   "metadata": {},
   "outputs": [
    {
     "name": "stdout",
     "output_type": "stream",
     "text": [
      "30\n",
      "45\n"
     ]
    }
   ],
   "source": [
    "def mul(a):\n",
    "    return lambda n:n*a\n",
    "x=mul(2)\n",
    "print(x(15))\n",
    "x=mul(3)\n",
    "print(x(15))\n",
    "\n"
   ]
  },
  {
   "cell_type": "markdown",
   "metadata": {},
   "source": [
    "3. Write a Python program to sort a list of tuples using Lambda.\n",
    "Original list of tuples:\n",
    "[('English', 88), ('Science', 90), ('Maths', 97), ('Social sciences', 82)]\n",
    "Sorting the List of Tuples:\n",
    "[('Social sciences', 82), ('English', 88), ('Science', 90), ('Maths', 97)]"
   ]
  },
  {
   "cell_type": "code",
   "execution_count": 126,
   "metadata": {},
   "outputs": [
    {
     "name": "stdout",
     "output_type": "stream",
     "text": [
      "[('English', 88), ('Maths', 97), ('Science', 90), ('Social sciences', 82)] normal method\n",
      "[('English', 88), ('Maths', 97), ('Science', 90), ('Social sciences', 82)] sort() function\n",
      "[('Social sciences', 82), ('English', 88), ('Science', 90), ('Maths', 97)] using sorted() function\n",
      "[('English', 88), ('Maths', 97), ('Science', 90), ('Social sciences', 82)] original tuple\n"
     ]
    }
   ],
   "source": [
    "def sort(a):\n",
    "  \n",
    "  a.sort()\n",
    "  print(a,\"normal method\")\n",
    "\n",
    "  a.sort(key=lambda x:x[0])\n",
    "  print (a,\"sort() function\")\n",
    "\n",
    "  newlist = sorted(a, key = lambda x : x[1])\n",
    "  print (newlist,\"using sorted() function\")\n",
    "  return f\"{a} original tuple\"\n",
    "print(sort([('English', 88), ('Science', 90), ('Maths', 97), ('Social sciences', 82)]))       "
   ]
  },
  {
   "cell_type": "markdown",
   "metadata": {},
   "source": [
    "4. Write a Python program to sort a list of dictionaries using Lambda.\n",
    "Original list of dictionaries :\n",
    "[{'make': 'Nokia', 'model': 216, 'color': 'Black'}, {'make': 'Mi Max', 'model': '2', 'color': 'Gold'}, {'make': 'Samsung', 'model': 7, 'color': 'Blue'}]\n",
    "Sorting the List of dictionaries :\n",
    "[{'make': 'Nokia', 'model': '216, 'color': 'Black'}, {'make': 'Samsung', 'model': 7, 'color': 'Blue'}, {'make': 'Mi Max', 'model': '2', 'color': 'Gold'}]"
   ]
  },
  {
   "cell_type": "code",
   "execution_count": 164,
   "metadata": {},
   "outputs": [
    {
     "name": "stdout",
     "output_type": "stream",
     "text": [
      "[{'make': 'Mi Max', 'model': 2, 'color': 'Gold'}, {'make': 'Samsung', 'model': 7, 'color': 'Blue'}, {'make': 'Nokia', 'model': 216, 'color': 'Black'}]\n"
     ]
    }
   ],
   "source": [
    "def sort_list_dic(a):\n",
    "    \n",
    "    \n",
    "        new=sorted(a, key = lambda x: x['model'])\n",
    "        \n",
    "        print(new)\n",
    "        \n",
    "\n",
    "sort_list_dic([{'make': 'Nokia', 'model': 216, 'color': 'Black'}, {'make': 'Mi Max', 'model': 2, 'color': 'Gold'}, \n",
    "          {'make': 'Samsung', 'model': 7, 'color': 'Blue'}])"
   ]
  },
  {
   "cell_type": "markdown",
   "metadata": {},
   "source": [
    "how to sort the dictionary\n",
    "example\n",
    "footballers_goals = {'Eusebio': 120, 'Cruyff': 104, 'Pele': 150, 'Ronaldo': 132, 'Messi': 125}\n"
   ]
  },
  {
   "cell_type": "code",
   "execution_count": 179,
   "metadata": {},
   "outputs": [
    {
     "name": "stdout",
     "output_type": "stream",
     "text": [
      "{'Cruyff': 104, 'Eusebio': 120, 'Messi': 125, 'Pele': 150, 'Ronaldo': 132}\n"
     ]
    }
   ],
   "source": [
    "def sort_dict(a):\n",
    "    new=sorted(a.items(),key=lambda x:x[0])\n",
    "    print(dict(new))\n",
    "sort_dict({'Eusebio': 120, 'Cruyff': 104, 'Pele': 150, 'Ronaldo': 132, 'Messi': 125})"
   ]
  },
  {
   "cell_type": "markdown",
   "metadata": {},
   "source": [
    "5. Write a Python program to filter a list of integers using Lambda.\n",
    "Original list of integers:\n",
    "[1, 2, 3, 4, 5, 6, 7, 8, 9, 10]\n",
    "Even numbers from the said list:\n",
    "[2, 4, 6, 8, 10]\n",
    "Odd numbers from the said list:\n",
    "[1, 3, 5, 7, 9]"
   ]
  },
  {
   "cell_type": "code",
   "execution_count": 214,
   "metadata": {},
   "outputs": [
    {
     "name": "stdout",
     "output_type": "stream",
     "text": [
      "[False, True, False, True, False, True, False, True, False, True] are even numbers\n",
      "[1, 3, 5, 7, 9] are odd numbers\n"
     ]
    }
   ],
   "source": [
    "def even_odd(a):\n",
    "    \n",
    "\n",
    "        even=list(filter(lambda i: i%2 == 0,a))\n",
    "        print (f\"{even} are even numbers\")\n",
    "    \n",
    "        odd=list(filter(lambda i: i%2 != 0,a))\n",
    "        print( f\"{odd} are odd numbers\")\n",
    "\n",
    "\n",
    "even_odd([1, 2, 3, 4, 5, 6, 7, 8, 9, 10])\n",
    "\n",
    "\n"
   ]
  },
  {
   "cell_type": "markdown",
   "metadata": {},
   "source": [
    "6. Write a Python program to square and cube every number in a given list of integers using Lambda.\n",
    "Original list of integers:\n",
    "[1, 2, 3, 4, 5, 6, 7, 8, 9, 10]\n",
    "Square every number of the said list:\n",
    "[1, 4, 9, 16, 25, 36, 49, 64, 81, 100]\n",
    "Cube every number of the said list:\n",
    "[1, 8, 27, 64, 125, 216, 343, 512, 729, 1000]"
   ]
  },
  {
   "cell_type": "code",
   "execution_count": 1,
   "metadata": {},
   "outputs": [
    {
     "name": "stdout",
     "output_type": "stream",
     "text": [
      "square of the list[1, 4, 9, 16, 25, 36, 49, 64, 81, 100]\n"
     ]
    }
   ],
   "source": [
    "def sq_cu(a):\n",
    "    \n",
    "    square=list(map(lambda x: x**2,a))\n",
    "    print(f\"square of the list{square}\")\n",
    "    \n",
    "sq_cu([1, 2, 3, 4, 5, 6, 7, 8, 9, 10])"
   ]
  },
  {
   "cell_type": "markdown",
   "metadata": {},
   "source": [
    "7. Write a Python program to find if a given string starts with a given character using Lambda.\n",
    "Sample Output:\n",
    "True\n",
    "False"
   ]
  },
  {
   "cell_type": "code",
   "execution_count": 7,
   "metadata": {},
   "outputs": [
    {
     "name": "stdout",
     "output_type": "stream",
     "text": [
      "True\n",
      "False\n"
     ]
    }
   ],
   "source": [
    "\n",
    "ans=lambda x: True if x.startswith(\"I\") else False\n",
    "print(ans(\"Indhu\"))\n",
    "print(ans(\"python\"))"
   ]
  },
  {
   "cell_type": "markdown",
   "metadata": {},
   "source": [
    "8. Write a Python program to extract year, month, date and time using Lambda.\n",
    "Sample Output:\n",
    "2020-01-15 09:03:32.744178"
   ]
  },
  {
   "cell_type": "code",
   "execution_count": 21,
   "metadata": {},
   "outputs": [
    {
     "name": "stdout",
     "output_type": "stream",
     "text": [
      "2023\n",
      "9\n",
      "9\n"
     ]
    }
   ],
   "source": [
    "import datetime\n",
    "now=datetime.datetime.now()\n",
    "year=lambda x: x.year\n",
    "day=lambda x: x.day\n",
    "month=lambda x:x.month\n",
    "print(year(now))\n",
    "print(day(now))\n",
    "print(month(now))"
   ]
  },
  {
   "cell_type": "markdown",
   "metadata": {},
   "source": [
    "9. Write a Python program to check whether a given string is a number or not using Lambda."
   ]
  },
  {
   "cell_type": "code",
   "execution_count": 30,
   "metadata": {},
   "outputs": [
    {
     "ename": "SyntaxError",
     "evalue": "invalid syntax (3790573830.py, line 1)",
     "output_type": "error",
     "traceback": [
      "\u001b[1;36m  Cell \u001b[1;32mIn[30], line 1\u001b[1;36m\u001b[0m\n\u001b[1;33m    ans=lambda x: True is_num(x[1:])  if x.replace('.',\"1\").isdigit() else False\u001b[0m\n\u001b[1;37m                       ^\u001b[0m\n\u001b[1;31mSyntaxError\u001b[0m\u001b[1;31m:\u001b[0m invalid syntax\n"
     ]
    }
   ],
   "source": [
    "ans=lambda x: True if x.replace('.',\"1\").isdigit() else False\n",
    "print(ans('123'))\n",
    "print(ans('1.23'))\n",
    "ans=lambda x: True if x.replace('-')\n",
    "print(ans(\"-1.23\"))"
   ]
  },
  {
   "cell_type": "markdown",
   "metadata": {},
   "source": [
    "10. Write a Python program to create Fibonacci series up to n using Lambda."
   ]
  },
  {
   "cell_type": "code",
   "execution_count": 46,
   "metadata": {},
   "outputs": [
    {
     "ename": "SyntaxError",
     "evalue": "expected ':' (1075822412.py, line 4)",
     "output_type": "error",
     "traceback": [
      "\u001b[1;36m  Cell \u001b[1;32mIn[46], line 4\u001b[1;36m\u001b[0m\n\u001b[1;33m    for i in range(1,n)\u001b[0m\n\u001b[1;37m                       ^\u001b[0m\n\u001b[1;31mSyntaxError\u001b[0m\u001b[1;31m:\u001b[0m expected ':'\n"
     ]
    }
   ],
   "source": [
    "def fib(n):\n",
    "    a=0\n",
    "    b=1    \n",
    "    for i in range(1,n)\n",
    "lambda a,b: a+b\n",
    "print(fib(5))"
   ]
  },
  {
   "cell_type": "code",
   "execution_count": null,
   "metadata": {},
   "outputs": [],
   "source": [
    "for i in range(1, n):\n",
    "            c = a + b\n",
    "            a = b\n",
    "            b = c\n",
    "        return b"
   ]
  }
 ],
 "metadata": {
  "kernelspec": {
   "display_name": "Python 3",
   "language": "python",
   "name": "python3"
  },
  "language_info": {
   "codemirror_mode": {
    "name": "ipython",
    "version": 3
   },
   "file_extension": ".py",
   "mimetype": "text/x-python",
   "name": "python",
   "nbconvert_exporter": "python",
   "pygments_lexer": "ipython3",
   "version": "3.10.11"
  },
  "orig_nbformat": 4
 },
 "nbformat": 4,
 "nbformat_minor": 2
}
