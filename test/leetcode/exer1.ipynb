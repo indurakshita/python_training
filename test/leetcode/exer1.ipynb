{
 "cells": [
  {
   "cell_type": "markdown",
   "metadata": {},
   "source": [
    "1.palindrom"
   ]
  },
  {
   "cell_type": "code",
   "execution_count": 1,
   "metadata": {},
   "outputs": [
    {
     "name": "stdout",
     "output_type": "stream",
     "text": [
      "madam is palindrome\n"
     ]
    }
   ],
   "source": [
    "def pal(w):\n",
    "    if w[::-1] == w:\n",
    "        return f\"{w} is palindrome\"\n",
    "    else:\n",
    "        return f\"{w} is not palindrome\"\n",
    "\n",
    "    return w\n",
    "\n",
    "x=pal(\"madam\")\n",
    "print(x)\n"
   ]
  },
  {
   "cell_type": "markdown",
   "metadata": {},
   "source": [
    "2.how to convert roman values to integer"
   ]
  },
  {
   "cell_type": "code",
   "execution_count": 10,
   "metadata": {},
   "outputs": [
    {
     "name": "stdout",
     "output_type": "stream",
     "text": [
      "{'location': 'princeton', 'first': 'albert', 'last': 'einstein'}\n",
      "{'location': 'paris', 'field': 'chemistry', 'first': 'marie', 'last': 'curie'}\n"
     ]
    }
   ],
   "source": [
    "def build_profile(first, last, **user_info):\n",
    "    \"\"\"Build a dictionary for a user.\"\"\"\n",
    "    user_info['first'] = first\n",
    "    user_info['last'] = last\n",
    "    return user_info\n",
    "# Create two users with different kinds\n",
    "# of information.\n",
    "user_0 = build_profile('albert', 'einstein',\n",
    "location='princeton')\n",
    "user_1 = build_profile('marie', 'curie',\n",
    "location='paris', field='chemistry')\n",
    "print(user_0)\n",
    "print(user_1)"
   ]
  },
  {
   "cell_type": "markdown",
   "metadata": {},
   "source": [
    "Input: nums1 = [1,2,3,0,0,0], m = 3, nums2 = [2,5,6], n = 3\n",
    "Output: [1,2,2,3,5,6]"
   ]
  },
  {
   "cell_type": "code",
   "execution_count": 41,
   "metadata": {},
   "outputs": [
    {
     "data": {
      "text/plain": [
       "'Merge the lists [1, 2, 3, 2, 5, 6]'"
      ]
     },
     "execution_count": 41,
     "metadata": {},
     "output_type": "execute_result"
    }
   ],
   "source": [
    "def merge(n1,n2):\n",
    "    n=[]\n",
    "    [n.append(i) for i in n1 if i!=0]\n",
    "    n.extend(n2) \n",
    "    return f\"Merge the lists {n}\"    \n",
    "        \n",
    "merge([1,2,3,0,0,0],[2,5,6])"
   ]
  },
  {
   "cell_type": "markdown",
   "metadata": {},
   "source": [
    "Longest Common Prefix\n",
    "Input: strs = [\"flower\",\"flow\",\"flight\"]\n",
    "Output: \"fl\""
   ]
  },
  {
   "cell_type": "code",
   "execution_count": 124,
   "metadata": {},
   "outputs": [
    {
     "name": "stdout",
     "output_type": "stream",
     "text": [
      "fl\n",
      "ca\n"
     ]
    },
    {
     "data": {
      "text/plain": [
       "'Not common prefix'"
      ]
     },
     "execution_count": 124,
     "metadata": {},
     "output_type": "execute_result"
    }
   ],
   "source": [
    "def prefix(s):\n",
    "    for i in range(len(s)):\n",
    "        p=s[i][0:2]\n",
    "        if p == s[i+1][0:2]==s[i+2][0:2]:\n",
    "            print (p)\n",
    "            break\n",
    "        else:\n",
    "            return \"Not common prefix\"   \n",
    "prefix([\"flower\",\"flow\",\"flight\"])\n",
    "prefix(['car', 'carbon', 'carbonmonoxide'])\n",
    "prefix(['car', 'carbon', 'vehicle'])\n",
    "\n"
   ]
  },
  {
   "cell_type": "markdown",
   "metadata": {},
   "source": [
    "Valid Parentheses\n",
    "Example 1:\n",
    "\n",
    "Input: s = \"()\"\n",
    "Output: true\n",
    "Example 2:\n",
    "\n",
    "Input: s = \"()[]{}\"\n",
    "Output: true\n",
    "Example 3:\n",
    "\n",
    "Input: s = \"(]\"\n",
    "Output: false\n"
   ]
  },
  {
   "cell_type": "code",
   "execution_count": 128,
   "metadata": {},
   "outputs": [
    {
     "data": {
      "text/plain": [
       "False"
      ]
     },
     "execution_count": 128,
     "metadata": {},
     "output_type": "execute_result"
    }
   ],
   "source": [
    "def para(s):\n",
    "    for i in s:\n",
    "        if i==\"[]\" and i==\"{}\" and i==\"()\" :\n",
    "            return True\n",
    "        return False\n",
    "\n",
    "para([\"()\",\"[]\",\"{}\",\")\"])\n",
    "        \n"
   ]
  },
  {
   "cell_type": "markdown",
   "metadata": {},
   "source": [
    "Merge Two Sorted Lists\n"
   ]
  },
  {
   "cell_type": "code",
   "execution_count": 134,
   "metadata": {},
   "outputs": [
    {
     "name": "stdout",
     "output_type": "stream",
     "text": [
      "[1, 1, 2, 3, 3, 4, 4]\n"
     ]
    }
   ],
   "source": [
    "def mrg(l1,l2):\n",
    "    l1.extend(l2)\n",
    "\n",
    "    l1.sort()\n",
    "    return l1\n",
    "\n",
    "x=mrg([1,3,2,4],[1,3,4])\n",
    "print(x)\n",
    "    "
   ]
  },
  {
   "cell_type": "code",
   "execution_count": 149,
   "metadata": {},
   "outputs": [
    {
     "data": {
      "text/plain": [
       "[1, 2, 3, 4, 5, 6, 8]"
      ]
     },
     "execution_count": 149,
     "metadata": {},
     "output_type": "execute_result"
    }
   ],
   "source": [
    "def mrg(l1):\n",
    "    o=[]\n",
    "    d=[]\n",
    "    for i in l1:\n",
    "        if i not in o:\n",
    "            o.append(i)\n",
    "            o.sort()\n",
    "        elif i not in d:\n",
    "            d.append(i)\n",
    "    return o\n",
    "mrg([1,3,2,4,1,3,5,3,6,8])\n"
   ]
  },
  {
   "cell_type": "markdown",
   "metadata": {},
   "source": [
    "Remove given element in given iterable"
   ]
  },
  {
   "cell_type": "code",
   "execution_count": null,
   "metadata": {},
   "outputs": [],
   "source": [
    "def func(n,lis):\n",
    "    for i in lis:\n",
    "        if i in n:\n",
    "            del(i)\n",
    "        yield i\n",
    "r=func(3,[1,2,3,4,3,4,5,6])\n",
    "print(r)"
   ]
  }
 ],
 "metadata": {
  "kernelspec": {
   "display_name": "Python 3",
   "language": "python",
   "name": "python3"
  },
  "language_info": {
   "codemirror_mode": {
    "name": "ipython",
    "version": 3
   },
   "file_extension": ".py",
   "mimetype": "text/x-python",
   "name": "python",
   "nbconvert_exporter": "python",
   "pygments_lexer": "ipython3",
   "version": "3.10.11"
  },
  "orig_nbformat": 4
 },
 "nbformat": 4,
 "nbformat_minor": 2
}
