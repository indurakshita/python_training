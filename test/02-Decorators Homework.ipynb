{
 "cells": [
  {
   "cell_type": "markdown",
   "metadata": {},
   "source": [
    "___\n",
    "\n",
    "<a href='https://www.udemy.com/user/joseportilla/'><img src='../Pierian_Data_Logo.png'/></a>\n",
    "___\n",
    "<center><em>Content Copyright by Pierian Data</em></center>"
   ]
  },
  {
   "cell_type": "markdown",
   "metadata": {},
   "source": [
    "# Decorators Homework (Optional)\n",
    "\n",
    "Since you won't run into decorators until further in your coding career, this homework is optional. Check out the Web Framework [Flask](http://flask.pocoo.org/). You can use Flask to create web pages with Python (as long as you know some HTML and CSS) and they use decorators a lot! Learn how they use [view decorators](http://flask.pocoo.org/docs/0.12/patterns/viewdecorators/). Don't worry if you don't completely understand everything about Flask, the main point of this optional homework is that you have an awareness of decorators in Web Frameworks. That way if you decide to become a \"Full-Stack\" Python Web Developer, you won't find yourself perplexed by decorators. You can also check out [Django](https://www.djangoproject.com/) another (and more popular) web framework for Python which is a bit more heavy duty.\n",
    "\n",
    "Also for some additional info:\n",
    "\n",
    "A framework is a type of software library that provides generic functionality which can be extended by the programmer to build applications. Flask and Django are good examples of frameworks intended for web development.\n",
    "\n",
    "A framework is distinguished from a simple library or API. An API is a piece of software that a developer can use in his or her application. A framework is more encompassing: your entire application is structured around the framework (i.e. it provides the framework around which you build your software).\n",
    "\n",
    "## Great job!"
   ]
  },
  {
   "cell_type": "markdown",
   "metadata": {},
   "source": [
    "1. Write a decorator function in Python that logs the name and arguments of a decorated function before executing it."
   ]
  },
  {
   "cell_type": "code",
   "execution_count": 8,
   "metadata": {},
   "outputs": [
    {
     "name": "stdout",
     "output_type": "stream",
     "text": [
      "Starting logger\n",
      "\n",
      "File Name: add \n",
      "Arguments: (5,) \n",
      "Keyword Arguments: {'b': 6}\n"
     ]
    },
    {
     "data": {
      "text/plain": [
       "11"
      ]
     },
     "execution_count": 8,
     "metadata": {},
     "output_type": "execute_result"
    }
   ],
   "source": [
    "def add_deco(f):\n",
    "    def wrap(*args,**kwargs):\n",
    "        print(\"Starting logger\\n\")\n",
    "        final=f(*args,**kwargs)\n",
    "        print(f\"File Name: {f.__name__} \\nArguments: {args} \\nKeyword Arguments: {kwargs}\")\n",
    "        return final\n",
    "    return wrap\n",
    "@add_deco\n",
    "def add(a,b=8):\n",
    "    return a+b\n",
    "add(5,b=6)"
   ]
  },
  {
   "cell_type": "markdown",
   "metadata": {},
   "source": [
    "2. Implement a decorator in Python that retries a function call a specified number of times if it raises a specific exception."
   ]
  },
  {
   "cell_type": "code",
   "execution_count": null,
   "metadata": {},
   "outputs": [
    {
     "name": "stdout",
     "output_type": "stream",
     "text": [
      "succeed\n"
     ]
    },
    {
     "data": {
      "text/plain": [
       "2.5"
      ]
     },
     "execution_count": 32,
     "metadata": {},
     "output_type": "execute_result"
    }
   ],
   "source": [
    "# def div_deco(fun):\n",
    "#     def wrap(*args,**kwargs):\n",
    "#         try:\n",
    "#             result=fun(*args,**kwargs)\n",
    "#             print(f\"result of division is:{result}\")\n",
    "#         except ZeroDivisionError:\n",
    "#             print(\"values not divided by zero\")\n",
    "    \n",
    "#     return wrap\n",
    "# @div_deco\n",
    "# def div(a,b):\n",
    "#     return a/b\n",
    "# div(10,2)\n",
    "# div(20,0)\n",
    "\n",
    "\n",
    "\n",
    "def deco(funs):\n",
    "    def wrap(*args,**kwargs):\n",
    "        tries=3\n",
    "        final = None\n",
    "        while tries>0:\n",
    "            tries-=1\n",
    "            try:\n",
    "                final = funs(*args,**kwargs)\n",
    "                print(\"succeed\")\n",
    "                break \n",
    "            except Exception:\n",
    "                print(\"function failed\")\n",
    "                continue\n",
    "        return final\n",
    "    return wrap\n",
    "\n",
    "@deco\n",
    "def div(a,b):\n",
    "    return a/b\n",
    "\n",
    "div(10,0)\n",
    "\n",
    "\n"
   ]
  },
  {
   "cell_type": "markdown",
   "metadata": {},
   "source": [
    "3. Write a decorator in Python that measures and prints the execution time of a decorated function."
   ]
  },
  {
   "cell_type": "code",
   "execution_count": 13,
   "metadata": {},
   "outputs": [
    {
     "name": "stdout",
     "output_type": "stream",
     "text": [
      "add of the two numbers (5, 6) and {} and total time is  0.00\n"
     ]
    },
    {
     "data": {
      "text/plain": [
       "11"
      ]
     },
     "execution_count": 13,
     "metadata": {},
     "output_type": "execute_result"
    }
   ],
   "source": [
    "\n",
    "\n",
    "def add_deco(f):\n",
    "    \n",
    "    def wrap(*args,**kwargs):\n",
    "        from time import perf_counter\n",
    "        start=perf_counter()\n",
    "\n",
    "        final=f(*args,**kwargs)\n",
    "        tot_time=perf_counter() - start\n",
    "        print(f\"add of the two numbers {args} and {kwargs} and total time is  {tot_time:.2f}\")\n",
    "        return final\n",
    "    return wrap\n",
    "@add_deco\n",
    "def add(a,b):\n",
    "    return a+b\n",
    "add(5,6)"
   ]
  },
  {
   "cell_type": "markdown",
   "metadata": {},
   "source": [
    "4. Create a decorator in Python that caches the return value of a function for a given set of arguments, so that if the function is called again with the same arguments, it returns the cached value instead of executing the function again"
   ]
  },
  {
   "cell_type": "code",
   "execution_count": 37,
   "metadata": {},
   "outputs": [
    {
     "name": "stdout",
     "output_type": "stream",
     "text": [
      "{}\n",
      "final value\n",
      "5\n",
      "cached value\n",
      "5\n",
      "{(15, 10): 5}\n",
      "final value\n",
      "30\n"
     ]
    }
   ],
   "source": [
    "\n",
    "def deco_sub(f):\n",
    "    cache={}\n",
    "    def wrap(*args,**kwargs):\n",
    "        \n",
    "        if args in cache:\n",
    "            print(\"cached value\")\n",
    "            return cache[args]\n",
    "        print(cache)\n",
    "           \n",
    "        final=f(*args,**kwargs)\n",
    "        cache[args]=final\n",
    "        print(f\"final value\")\n",
    "        return final\n",
    "    \n",
    "    return wrap\n",
    "\n",
    "@deco_sub\n",
    "def sub(a,b=5):\n",
    "    return a-b\n",
    "\n",
    "print(sub(15,10))\n",
    "print(sub(15,10))\n",
    "print(sub(50,20))\n",
    "# print(sub(50,20))\n",
    "\n",
    "\n",
    "\n"
   ]
  },
  {
   "cell_type": "markdown",
   "metadata": {},
   "source": [
    "5.Implement a decorator in Python that validates the input arguments of a decorated function \n",
    "based on a specified set of conditions, \n",
    "raising an exception if the arguments do not meet those conditions."
   ]
  },
  {
   "cell_type": "code",
   "execution_count": 104,
   "metadata": {},
   "outputs": [
    {
     "name": "stdout",
     "output_type": "stream",
     "text": [
      "valide number\n",
      "even number is 6\n",
      "None\n"
     ]
    }
   ],
   "source": [
    "def even_validate(func):\n",
    "    def wrap(*args,**kwrgs):\n",
    "        result=func(*args,**kwrgs)\n",
    "        if result>1:\n",
    "            print(\"valide number\")\n",
    "            if result%2==0:\n",
    "                print(\"even number is\",result)\n",
    "        else:\n",
    "            raise ValueError(\"put the number above 1\")\n",
    "    return wrap\n",
    "        \n",
    "  \n",
    "\n",
    "@even_validate\n",
    "def even(n):\n",
    "    return n\n",
    "print(even(6))\n",
    "\n",
    "        "
   ]
  },
  {
   "cell_type": "code",
   "execution_count": 22,
   "metadata": {},
   "outputs": [
    {
     "name": "stdout",
     "output_type": "stream",
     "text": [
      "Indhu@1234\n"
     ]
    }
   ],
   "source": [
    "import string\n",
    "\n",
    "\n",
    "def validate(func):\n",
    "    def wrap(*args,**kwargs):\n",
    "        output = func(*args,**kwargs)\n",
    "        if not (len(output) >= 8):\n",
    "            raise ValueError(\"required minimum 8 characters\")\n",
    "        \n",
    "        upper = any([True if i in output else False for i in string.ascii_uppercase])\n",
    "        lower = any([True if i in output else False for i in string.ascii_uppercase])\n",
    "        punc = any([True if i in output else False  for i in string.punctuation])\n",
    "        digits = any([True if i in output else False  for i in string.digits])\n",
    "        all_=all([upper,lower,punc,digits])\n",
    "        if not all_:\n",
    "            raise ValueError(\"should contain upper,lower,punction & digits\")\n",
    "        \n",
    "        return output\n",
    "    return wrap\n",
    "\n",
    "@validate\n",
    "def password():\n",
    "    p_word=input(\"enter the password: \")\n",
    "    return p_word\n",
    "\n",
    "print(password())\n",
    "\n"
   ]
  },
  {
   "cell_type": "code",
   "execution_count": 114,
   "metadata": {},
   "outputs": [],
   "source": [
    "def hello_decorator(func):\n",
    "\tdef inner1(*args, **kwargs):\n",
    "\t\t\n",
    "\t\tprint(\"before Execution\")\n",
    "\t\t\n",
    "\t\t# getting the returned value\n",
    "\t\treturned_value = func(*args, **kwargs)\n",
    "\t\tprint(returned_value,args)\n",
    "\t\t# print(\"after Execution\")\n",
    "\t\t\n",
    "\t\t# returning the value to the original frame\n",
    "\t\t\n",
    "\t\treturn returned_value\n",
    "\treturn inner1\n",
    "\n",
    "\n",
    "# adding decorator to the function\n",
    "@hello_decorator\n",
    "def sum_two_numbers(a, b):\n",
    "\tprint(\"Inside the function\")\n",
    "\treturn a + b\n",
    "\n",
    "a, b = 1, 2\n",
    "\n",
    "# getting the value through return of the function\n",
    "print(\"Sum =\", sum_two_numbers(a, b))\n"
   ]
  }
 ],
 "metadata": {
  "kernelspec": {
   "display_name": "Python 3",
   "language": "python",
   "name": "python3"
  },
  "language_info": {
   "codemirror_mode": {
    "name": "ipython",
    "version": 3
   },
   "file_extension": ".py",
   "mimetype": "text/x-python",
   "name": "python",
   "nbconvert_exporter": "python",
   "pygments_lexer": "ipython3",
   "version": "3.10.11"
  }
 },
 "nbformat": 4,
 "nbformat_minor": 1
}
