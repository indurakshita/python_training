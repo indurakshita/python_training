{
 "cells": [
  {
   "cell_type": "code",
   "execution_count": null,
   "metadata": {},
   "outputs": [],
   "source": []
  },
  {
   "cell_type": "markdown",
   "metadata": {},
   "source": [
    "Write a function that checks whether a number is in a given range (inclusive of high and low)"
   ]
  },
  {
   "cell_type": "code",
   "execution_count": 4,
   "metadata": {},
   "outputs": [
    {
     "name": "stdout",
     "output_type": "stream",
     "text": [
      "4 in between 1 and 5 the range\n",
      "out of range\n"
     ]
    }
   ],
   "source": [
    "def check(n,l,h):\n",
    "    if n in range(l,h):\n",
    "        return f\"{n} in between {l} and {h} the range\"\n",
    "    else:\n",
    "        return f\"out of range\"\n",
    "print(check(4,1,5))\n",
    "print(check(6,1,5))"
   ]
  },
  {
   "cell_type": "markdown",
   "metadata": {},
   "source": [
    "**Write a Python function that accepts a string and calculates the number of upper case letters and lower case letters.**\\\n",
    "String='Hello Mr. Rogers, how are you this fine Tuesday?'"
   ]
  },
  {
   "cell_type": "code",
   "execution_count": 15,
   "metadata": {},
   "outputs": [
    {
     "data": {
      "text/plain": [
       "'number of upper 1'"
      ]
     },
     "execution_count": 15,
     "metadata": {},
     "output_type": "execute_result"
    }
   ],
   "source": [
    "def no_letters(s):\n",
    "    u=0\n",
    "    l=0\n",
    "    for i in s:\n",
    "        if i.isupper():\n",
    "            u+=1\n",
    "            return f\"number of upper {u}\"\n",
    "        elif i.islower():\n",
    "            l+=1\n",
    "            return f\"number of lower {l}\"\n",
    "        else:\n",
    "            pass\n",
    "no_letters(\"Hello Mr. Rogers, how are you this fine Tuesday?\")\n",
    "\n",
    "\n"
   ]
  },
  {
   "cell_type": "markdown",
   "metadata": {},
   "source": [
    "**Write a Python function that takes a list and returns a new list with unique elements of the first list.**\n",
    "\n",
    "    Sample List : [1,1,1,1,2,2,3,3,3,3,4,5]\n",
    "    Unique List : [1, 2, 3, 4, 5]"
   ]
  },
  {
   "cell_type": "code",
   "execution_count": 4,
   "metadata": {},
   "outputs": [
    {
     "data": {
      "text/plain": [
       "[1, 2, 3, 4, 5]"
      ]
     },
     "execution_count": 4,
     "metadata": {},
     "output_type": "execute_result"
    }
   ],
   "source": [
    "def unique(lst):\n",
    "    u=[]\n",
    "    [u.append(i) for i in lst if i not in u]\n",
    "    return u\n",
    "unique([1,1,1,1,2,2,3,3,3,3,4,5])\n",
    "    "
   ]
  },
  {
   "cell_type": "markdown",
   "metadata": {},
   "source": [
    "**Write a Python function to multiply all the numbers in a list.**\n",
    "\n",
    "    Sample List : [1, 2, 3, -4]\n",
    "    Expected Output : -24"
   ]
  },
  {
   "cell_type": "code",
   "execution_count": 13,
   "metadata": {},
   "outputs": [
    {
     "data": {
      "text/plain": [
       "-24"
      ]
     },
     "execution_count": 13,
     "metadata": {},
     "output_type": "execute_result"
    }
   ],
   "source": [
    "def mul(lst):\n",
    "    m=1\n",
    "    for i in lst:\n",
    "        m*=i\n",
    "    return m\n",
    "       \n",
    "mul([1, 2, 3, -4])\n"
   ]
  },
  {
   "cell_type": "markdown",
   "metadata": {},
   "source": [
    "**Write a Python function that checks whether a word or phrase is palindrome or not.**\n"
   ]
  },
  {
   "cell_type": "code",
   "execution_count": 17,
   "metadata": {},
   "outputs": [
    {
     "data": {
      "text/plain": [
       "'nursesrun is palindrome'"
      ]
     },
     "execution_count": 17,
     "metadata": {},
     "output_type": "execute_result"
    }
   ],
   "source": [
    "def pal(word):\n",
    "    if word[::-1] == word:\n",
    "        return f\"{word} is palindrome\"\n",
    "    else:\n",
    "        return f\"{word} is not palindrome\"\n",
    "pal(\"nursesrun\")"
   ]
  },
  {
   "cell_type": "markdown",
   "metadata": {},
   "source": [
    "#### Hard:\n",
    "\n",
    "**Write a Python function to check whether a string is pangram or not. (Assume the string passed in does not have any punctuation)**\n",
    "\n",
    "    Note : Pangrams are words or sentences containing every letter of the alphabet at least once.\n",
    "    For example : \"The quick brown fox jumps over the lazy dog\""
   ]
  },
  {
   "cell_type": "code",
   "execution_count": 58,
   "metadata": {},
   "outputs": [
    {
     "name": "stdout",
     "output_type": "stream",
     "text": [
      "Thequickbrownfoxjumpsoverthelazydog\n",
      "True\n",
      "Itscallednumber8\n",
      "True\n"
     ]
    }
   ],
   "source": [
    "def pangram(sentence):\n",
    "    alpa=\"abcdefghijklmnopqrstuvwxyz\"\n",
    "    s=sentence.replace(\" \",'')\n",
    "    print(s)\n",
    "    for i in s:\n",
    "        if i.lower() in alpa:\n",
    "            return True\n",
    "        return False\n",
    "\n",
    "    \n",
    "print(pangram(\"The quick brown fox jumps over the lazy dog\"))\n",
    "print(pangram(\"Its called number 8\"))"
   ]
  }
 ],
 "metadata": {
  "kernelspec": {
   "display_name": "Python 3",
   "language": "python",
   "name": "python3"
  },
  "language_info": {
   "codemirror_mode": {
    "name": "ipython",
    "version": 3
   },
   "file_extension": ".py",
   "mimetype": "text/x-python",
   "name": "python",
   "nbconvert_exporter": "python",
   "pygments_lexer": "ipython3",
   "version": "3.10.11"
  },
  "orig_nbformat": 4
 },
 "nbformat": 4,
 "nbformat_minor": 2
}
