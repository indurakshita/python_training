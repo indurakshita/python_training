{
 "cells": [
  {
   "cell_type": "markdown",
   "metadata": {},
   "source": [
    "Strings\n",
    "\n",
    "1. A social media platform wants to ensure that user passwords contain at least 8 characters. \n",
    "    Write a Python function that checks if a given password meets this requirement and returns a boolean value."
   ]
  },
  {
   "cell_type": "code",
   "execution_count": 1,
   "metadata": {},
   "outputs": [
    {
     "name": "stdout",
     "output_type": "stream",
     "text": [
      "False\n"
     ]
    }
   ],
   "source": [
    "a=input(\"enter a password\")\n",
    "def password(a):\n",
    "    if(len(a)==8):\n",
    "        return True\n",
    "    else:\n",
    "        return False\n",
    "x=password(a)\n",
    "print(x)"
   ]
  },
  {
   "cell_type": "code",
   "execution_count": null,
   "metadata": {},
   "outputs": [],
   "source": [
    "2.An e-commerce website needs to generate unique order numbers for each purchase. \n",
    "How can Python's string manipulation be used to create a unique order number based on the customer's name and current date?"
   ]
  },
  {
   "cell_type": "code",
   "execution_count": null,
   "metadata": {},
   "outputs": [],
   "source": [
    "list=[]"
   ]
  },
  {
   "cell_type": "code",
   "execution_count": null,
   "metadata": {},
   "outputs": [],
   "source": [
    "3. A text processing tool needs to count the number of occurrences of a specific word in a given text. \n",
    "Write a Python function that takes the text and the word as inputs and returns the count"
   ]
  },
  {
   "cell_type": "code",
   "execution_count": 2,
   "metadata": {},
   "outputs": [
    {
     "name": "stdout",
     "output_type": "stream",
     "text": [
      "2\n"
     ]
    }
   ],
   "source": [
    "#a=\"this is my first test\"\n",
    "#x=a.count(\"i\")\n",
    "#print(x)\n",
    "\n",
    "def fns(n):\n",
    "    #return n.casefold().count(\"i\")\n",
    "    return n.count(\"i\")\n",
    "x=fns(\"this Is my first test\")\n",
    "print(x)\n",
    "\n"
   ]
  },
  {
   "cell_type": "code",
   "execution_count": null,
   "metadata": {},
   "outputs": [],
   "source": [
    "4. A company wants to create personalized email addresses for employees. \n",
    "How can you use Python to concatenate the first name and last name of an employee to generate their email address?"
   ]
  },
  {
   "cell_type": "code",
   "execution_count": 94,
   "metadata": {},
   "outputs": [
    {
     "name": "stdout",
     "output_type": "stream",
     "text": [
      "in123th@gmail.com\n"
     ]
    }
   ],
   "source": [
    "f_name=input(\"enter a first name\")\n",
    "l_name=input(\"enter a last name\")\n",
    "name=f_name+l_name\n",
    "\n",
    "print(f\"{name[0:2]}123{name[-3:-1]}@gmail.com\")\n",
    "    "
   ]
  },
  {
   "cell_type": "code",
   "execution_count": null,
   "metadata": {},
   "outputs": [],
   "source": [
    "5. An online form validation requires users to enter a valid email address. \n",
    "Write a Python program that checks whether a given string is a valid email address."
   ]
  },
  {
   "cell_type": "code",
   "execution_count": 11,
   "metadata": {},
   "outputs": [
    {
     "name": "stdout",
     "output_type": "stream",
     "text": [
      "not valid\n"
     ]
    }
   ],
   "source": [
    "e_add=input(\"enter a email address\")\n",
    "x=e_add.endswith(\"@gmail.com\")\n",
    "if (x):\n",
    "    print(\"vaild email address:\",e_add)\n",
    "else:\n",
    "    print(\"not valid\")"
   ]
  },
  {
   "cell_type": "markdown",
   "metadata": {},
   "source": [
    "Integers\n",
    "\n",
    "6. A banking application needs to calculate the compound interest for a savings account.\n",
    " Write a Python function that takes principal amount, interest rate, and time as inputs and returns the final amount."
   ]
  },
  {
   "cell_type": "code",
   "execution_count": 96,
   "metadata": {},
   "outputs": [
    {
     "name": "stdout",
     "output_type": "stream",
     "text": [
      "11576.250000000002\n",
      "compound interest is 1576.2500000000018\n"
     ]
    }
   ],
   "source": [
    "p_amt=float(input(\"enter a amount\"))\n",
    "r=float(input(\"enter a interest\"))\n",
    "t=float(input(\"enter a time\"))\n",
    "a=p_amt*(1+(r/100))**t\n",
    "print(a)\n",
    "c=a-p_amt\n",
    "print(\"compound interest is\",c)\n",
    "\n"
   ]
  },
  {
   "cell_type": "code",
   "execution_count": null,
   "metadata": {},
   "outputs": [],
   "source": [
    "7. A game developer wants to implement a scoring system where players earn points. \n",
    "How can Python be used to keep track of each player's score?"
   ]
  },
  {
   "cell_type": "code",
   "execution_count": null,
   "metadata": {},
   "outputs": [],
   "source": [
    "n=input(\"enter a name\")\n",
    "check=input(f\"which player is win {n}?\")\n",
    "while check==Yes:\n",
    "    print(f\"score of the player {check}\")\n",
    "    continue\n",
    "else:\n",
    "        print(\"no one win\")\n",
    "print(\"all the best\")"
   ]
  },
  {
   "cell_type": "code",
   "execution_count": null,
   "metadata": {},
   "outputs": [],
   "source": [
    "8. An inventory management system needs to calculate the total value of items in stock. \n",
    "Write a Python function that calculates the total value based on the price and quantity of each item."
   ]
  },
  {
   "cell_type": "code",
   "execution_count": 97,
   "metadata": {},
   "outputs": [
    {
     "name": "stdout",
     "output_type": "stream",
     "text": [
      "total value 500\n"
     ]
    }
   ],
   "source": [
    "q=int(input(\"enter a quantity\"))\n",
    "p=int(input(\"enter a price\"))\n",
    "t=0\n",
    "if q>0:\n",
    "    t=q*p\n",
    "    print(\"total value\",t)\n",
    "else:\n",
    "    print(\"no quantity\")\n",
    "\n"
   ]
  },
  {
   "cell_type": "code",
   "execution_count": null,
   "metadata": {},
   "outputs": [],
   "source": [
    "9. A fitness app tracks the number of calories burned during a workout. \n",
    "How can Python be used to sum the calories burned in a week's worth of workouts?"
   ]
  },
  {
   "cell_type": "code",
   "execution_count": 98,
   "metadata": {},
   "outputs": [
    {
     "name": "stdout",
     "output_type": "stream",
     "text": [
      "6.3\n"
     ]
    }
   ],
   "source": [
    "time=int(input(\"enter a time\"))\n",
    "wkg=int(input(\"enter a weight in KG\"))\n",
    "MET=int(input(\"enter a met\"))\n",
    "\n",
    "\n",
    "calories=time*(MET*3.5*wkg)/200\n",
    "print(calories)"
   ]
  },
  {
   "cell_type": "code",
   "execution_count": null,
   "metadata": {},
   "outputs": [],
   "source": [
    "A school wants to automate the grading process.\n",
    "Write a Python program that calculates the average score for a list of student scores."
   ]
  },
  {
   "cell_type": "code",
   "execution_count": 99,
   "metadata": {},
   "outputs": [
    {
     "name": "stdout",
     "output_type": "stream",
     "text": [
      "indhu\n",
      "Pass\n",
      "total=190\n",
      "average=63.333333333333336\n",
      "grade is C\n",
      "ram\n",
      "Pass\n",
      "total=197\n",
      "average=65.66666666666667\n",
      "grade is C\n",
      "raja\n",
      "Fail\n"
     ]
    }
   ],
   "source": [
    "def student(m1,m2,m3):\n",
    "    name=input(\"enter a name\")\n",
    "    print(name)\n",
    "    if (m1>=35) and (m2>=35) and (m3>=35):\n",
    "        print(\"Pass\")\n",
    "        tot=m1+m2+m3\n",
    "        print(f\"total={tot}\")\n",
    "        avg=tot/3\n",
    "        print(f\"average={avg}\")\n",
    "        if(avg>=90):\n",
    "            print(\"grade is A\")\n",
    "        elif(avg>=80) and (avg<90):\n",
    "            print(\"grade is B\")\n",
    "        elif(avg>=60) and (avg<80):\n",
    "            print(\"grade is C\")\n",
    "        elif(avg>=40) and (avg<60):\n",
    "            print(\"grade is D\")\n",
    "        elif(avg>=35) and (avg<40):\n",
    "            print(\"grade is E\")\n",
    "    else:\n",
    "        print(\"Fail\")\n",
    "student(50,60,80)\n",
    "student(54,78,65)\n",
    "student(50,34,60)\n"
   ]
  },
  {
   "cell_type": "code",
   "execution_count": null,
   "metadata": {},
   "outputs": [],
   "source": [
    "Variables\n",
    "\n",
    "11.A weather application needs to store and display the current temperature. \n",
    "How can Python variables be used to store this information?"
   ]
  },
  {
   "cell_type": "code",
   "execution_count": null,
   "metadata": {},
   "outputs": [],
   "source": []
  },
  {
   "cell_type": "code",
   "execution_count": null,
   "metadata": {},
   "outputs": [],
   "source": [
    "12. A restaurant wants to keep track of daily sales.\n",
    "How can Python variables be used to store the total sales for each day of the week?"
   ]
  },
  {
   "cell_type": "code",
   "execution_count": 35,
   "metadata": {},
   "outputs": [
    {
     "name": "stdout",
     "output_type": "stream",
     "text": [
      "[50, 0, 0, 0, 0, 0, 0]\n",
      "50\n",
      "[60, 0, 0, 0, 0, 0, 0]\n",
      "110\n",
      "[40, 0, 0, 0, 0, 0, 0]\n",
      "150\n",
      "[20, 0, 0, 0, 0, 0, 0]\n",
      "170\n",
      "[60, 0, 0, 0, 0, 0, 0]\n",
      "230\n",
      "[40, 0, 0, 0, 0, 0, 0]\n",
      "270\n",
      "[20, 0, 0, 0, 0, 0, 0]\n",
      "290\n"
     ]
    }
   ],
   "source": [
    "def week_sale():\n",
    "    d_sales=[0,0,0,0,0,0,0]\n",
    "    t_d_sales=0\n",
    "    for i in d_sales:\n",
    "        d_sales[i]=int(input(\"enter a sale of the day:\"))\n",
    "        print(d_sales)   \n",
    "        for j in d_sales:\n",
    "            t_d_sales+=j\n",
    "        \n",
    "        print(t_d_sales)\n",
    "week_sale()\n",
    "\n",
    "\n",
    "\n",
    "\n",
    "        \n"
   ]
  },
  {
   "cell_type": "markdown",
   "metadata": {},
   "source": [
    "13. A game developer needs to store the player's username and score. \n",
    "`How can Python variables be used to store this information?"
   ]
  },
  {
   "cell_type": "code",
   "execution_count": 4,
   "metadata": {},
   "outputs": [
    {
     "name": "stdout",
     "output_type": "stream",
     "text": [
      "Username is indhu\n",
      "5 is Score for the player\n"
     ]
    }
   ],
   "source": [
    "username=input(\"enter a username:\")\n",
    "score=int(input(\"enter a score\"))\n",
    "print(f\"Username is {username}\")\n",
    "print(f\"{score} is Score for the player\")\n",
    "\n",
    "\n"
   ]
  },
  {
   "cell_type": "code",
   "execution_count": null,
   "metadata": {},
   "outputs": [],
   "source": [
    "14. A travel agency wants to store and display information about various destinations. \n",
    "How can Python variables be used to store details like destination name, price, and availability?"
   ]
  },
  {
   "cell_type": "code",
   "execution_count": null,
   "metadata": {},
   "outputs": [],
   "source": [
    "destination=input(\"enter the destination\")\n",
    "price=int(input(\"enter the price\"))\n",
    "available=int(input(\"enter a availability\"))\n",
    "print(f\"The destination is {destination} \\nPrice is {price} and availability for this destination {available}\")"
   ]
  },
  {
   "cell_type": "code",
   "execution_count": null,
   "metadata": {},
   "outputs": [],
   "source": [
    "15. A scientific experiment requires tracking the changing values of temperature over time. \n",
    "How can Python variables be used to store and analyze this data?"
   ]
  },
  {
   "cell_type": "code",
   "execution_count": null,
   "metadata": {},
   "outputs": [],
   "source": []
  },
  {
   "cell_type": "code",
   "execution_count": null,
   "metadata": {},
   "outputs": [],
   "source": [
    "Boolean\n",
    "\n",
    "16. An online voting system needs to check if a user is eligible to vote. \n",
    "Write a Python function that uses boolean logic to determine if a user is of voting age."
   ]
  },
  {
   "cell_type": "code",
   "execution_count": null,
   "metadata": {},
   "outputs": [],
   "source": [
    "\n",
    "age=int(input(\"enter a age\"))\n",
    "if age>=18:\n",
    "    print(\"eligible for the vote\")\n",
    "else:\n",
    "    print(\"not eligible for the vote\")\n"
   ]
  },
  {
   "cell_type": "code",
   "execution_count": null,
   "metadata": {},
   "outputs": [],
   "source": [
    "17. A security system needs to determine if a user's password meets specific criteria, including a mix of uppercase and lowercase letters.\n",
    "How can Python boolean values help in this validation process?"
   ]
  },
  {
   "cell_type": "code",
   "execution_count": null,
   "metadata": {},
   "outputs": [],
   "source": [
    "password=(input(\"enter a password\"))\n",
    "p_word=password.casefold()\n",
    "p_word=len(p_word)\n",
    "\n",
    "while (p_word<=8):\n",
    "    password=(input(\"enter a password\"))\n",
    "print(\"good valide password\")"
   ]
  },
  {
   "cell_type": "code",
   "execution_count": null,
   "metadata": {},
   "outputs": [],
   "source": [
    "18. A shipping company needs to determine if a package's weight exceeds the maximum allowed weight for a specific service. \n",
    "Write a Python function that returns True if the weight is within limits and False otherwise."
   ]
  },
  {
   "cell_type": "code",
   "execution_count": 12,
   "metadata": {},
   "outputs": [
    {
     "name": "stdout",
     "output_type": "stream",
     "text": [
      "False\n"
     ]
    }
   ],
   "source": [
    "\n",
    "def weight(r_weight):\n",
    "    if (r_weight<=25):\n",
    "        return True\n",
    "    else:\n",
    "        return False\n",
    "x=weight(r_weight=int(input(\"Enter a weight for rice in kg)\")))\n",
    "print(x)"
   ]
  },
  {
   "cell_type": "code",
   "execution_count": null,
   "metadata": {},
   "outputs": [],
   "source": [
    "19. A subscription-based service wants to check if a user's subscription is still active. \n",
    "How can Python boolean values be used to track subscription status?"
   ]
  },
  {
   "cell_type": "code",
   "execution_count": 39,
   "metadata": {},
   "outputs": [
    {
     "ename": "NameError",
     "evalue": "name 'subcribed' is not defined",
     "output_type": "error",
     "traceback": [
      "\u001b[1;31m---------------------------------------------------------------------------\u001b[0m",
      "\u001b[1;31mNameError\u001b[0m                                 Traceback (most recent call last)",
      "Cell \u001b[1;32mIn[39], line 2\u001b[0m\n\u001b[0;32m      1\u001b[0m check\u001b[39m=\u001b[39m\u001b[39minput\u001b[39m(\u001b[39m\"\u001b[39m\u001b[39mis channel subcribed?\u001b[39m\u001b[39m\"\u001b[39m)\n\u001b[1;32m----> 2\u001b[0m \u001b[39mwhile\u001b[39;00m (check\u001b[39m==\u001b[39msubcribed):\n\u001b[0;32m      3\u001b[0m     \u001b[39mprint\u001b[39m(\u001b[39m\"\u001b[39m\u001b[39mchannel is subcribed\u001b[39m\u001b[39m\"\u001b[39m)\n\u001b[0;32m      4\u001b[0m \u001b[39melse\u001b[39;00m:\n",
      "\u001b[1;31mNameError\u001b[0m: name 'subcribed' is not defined"
     ]
    }
   ],
   "source": [
    "\n",
    "check=input(\"is channel subcribed?\")\n",
    "while (check==subcribed):\n",
    "    print(\"channel is subcribed\")\n",
    "else:\n",
    "    print(\"still not subcribed\")"
   ]
  },
  {
   "cell_type": "code",
   "execution_count": null,
   "metadata": {},
   "outputs": [],
   "source": [
    "20. An online quiz application needs to evaluate whether a user's answers are correct. \n",
    "How can Python boolean values be used to check the correctness of answers?"
   ]
  },
  {
   "cell_type": "code",
   "execution_count": 43,
   "metadata": {},
   "outputs": [
    {
     "data": {
      "text/plain": [
       "False"
      ]
     },
     "execution_count": 43,
     "metadata": {},
     "output_type": "execute_result"
    }
   ],
   "source": [
    "q=input(\"which is our nation bird?\")\n",
    "def bird():\n",
    "    \n",
    "        if (q==\"peacock\"):\n",
    "            return True\n",
    "        else:\n",
    "            return False\n",
    "bird()\n",
    "    \n"
   ]
  },
  {
   "cell_type": "code",
   "execution_count": null,
   "metadata": {},
   "outputs": [],
   "source": [
    "List\n",
    "21. A grocery store wants to create a shopping list for customers.\n",
    "Write a Python program that allows users to add and remove items from their shopping list."
   ]
  },
  {
   "cell_type": "code",
   "execution_count": 59,
   "metadata": {},
   "outputs": [
    {
     "name": "stdout",
     "output_type": "stream",
     "text": [
      "['rice', 'wheat', 'milk']\n",
      "['rice', 'wheat', 'milk', 'sugar', 'milets']\n",
      "['rice', 'wheat', 'milk', 'sugar']\n"
     ]
    }
   ],
   "source": [
    "\n",
    "n=input(\"enter a grocery item\")\n",
    "shop_lst=list(n.split(\" \"))\n",
    "print(shop_lst)\n",
    "shop_lst.append(\"sugar\")\n",
    "shop_lst.append(\"milets\")\n",
    "print(shop_lst)\n",
    "shop_lst.pop()\n",
    "print(shop_lst)\n"
   ]
  },
  {
   "cell_type": "code",
   "execution_count": null,
   "metadata": {},
   "outputs": [],
   "source": [
    "22. A sports team wants to keep track of player statistics. \n",
    "How can Python lists be used to store data such as player names, scores, and assists?"
   ]
  },
  {
   "cell_type": "code",
   "execution_count": 69,
   "metadata": {},
   "outputs": [
    {
     "name": "stdout",
     "output_type": "stream",
     "text": [
      "[['indhu', 'ram', 'rani']]\n",
      "[['1', '2', '3']]\n",
      "[['2', '5', '6']]\n",
      "['indhu', 'ram', 'rani', '1', '2', '3', '2', '5', '6']\n"
     ]
    }
   ],
   "source": [
    "name=input(\"enter a player's name\")\n",
    "score=input(\"enter a score for each person\")\n",
    "assist=input(\"enter a assists for each person\")\n",
    "l_name=list(name.split(\" \"))\n",
    "l_score=list(score.split(\" \"))\n",
    "l_assist=list(assist.split(\" \"))\n",
    "print(l_name)\n",
    "print(l_score)\n",
    "print(l_assist)\n",
    "l_name.extend(l_score)\n",
    "l_name.extend(l_assist)\n",
    "print(l_name)\n"
   ]
  },
  {
   "cell_type": "code",
   "execution_count": null,
   "metadata": {},
   "outputs": [],
   "source": [
    "23. A movie rental service needs to display a list of available movies. \n",
    "How can Python lists be used to store movie titles and their availability status?"
   ]
  },
  {
   "cell_type": "code",
   "execution_count": 78,
   "metadata": {},
   "outputs": [
    {
     "name": "stdout",
     "output_type": "stream",
     "text": [
      "['rajarani', 'Virak', 'Jailer']\n",
      "Jailernot available ticket\n",
      "other movies available\n",
      "enjoy the movie\n"
     ]
    }
   ],
   "source": [
    "mov=input(\"enter a movie names\")\n",
    "mov=list(mov.split(\" \"))\n",
    "print(mov)\n",
    "for i in mov:\n",
    "    \n",
    "    if i==\"Jailer\":\n",
    "        print(f\"{i}not available ticket\")\n",
    "else:\n",
    "    print(\"other movies available\")\n",
    "print(\"enjoy the movie\")"
   ]
  },
  {
   "cell_type": "code",
   "execution_count": null,
   "metadata": {},
   "outputs": [],
   "source": [
    "24.A school wants to store a list of students who made the honor roll. \n",
    "Write a Python program that allows teachers to add students to this list."
   ]
  },
  {
   "cell_type": "code",
   "execution_count": 42,
   "metadata": {},
   "outputs": [
    {
     "name": "stdout",
     "output_type": "stream",
     "text": [
      "{'name': 'rani', 'grade': 'A'}\n",
      "{'name': 'kavin', 'grade': 'B'}\n",
      "{'name': 'sara', 'grade': 'A'}\n",
      "{'name': 'abi', 'grade': 'c'}\n"
     ]
    }
   ],
   "source": [
    "h_roll=[{\"name\":\"rani\",\"grade\":\"A\"},{\"name\":\"kavin\",\"grade\":\"B\"},{\"name\":\"sara\",\"grade\":\"A\"},{\"name\":\"abi\",\"grade\":\"c\"}]\n",
    "for i in h_roll:\n",
    "    print(i)\n",
    "    if \"grade\"==\"A\"\n",
    "        print()"
   ]
  },
  {
   "cell_type": "code",
   "execution_count": null,
   "metadata": {},
   "outputs": [],
   "source": [
    "25. A travel agency wants to keep track of customer reviews for different destinations. \n",
    "How can Python lists be used to store reviews and calculate average ratings?"
   ]
  },
  {
   "cell_type": "code",
   "execution_count": null,
   "metadata": {},
   "outputs": [],
   "source": []
  },
  {
   "cell_type": "code",
   "execution_count": null,
   "metadata": {},
   "outputs": [],
   "source": [
    "Dictionary\n",
    "\n",
    "26. An online dictionary wants to provide word definitions. \n",
    "How can Python dictionaries be used to store word-definition pairs?"
   ]
  },
  {
   "cell_type": "code",
   "execution_count": null,
   "metadata": {},
   "outputs": [],
   "source": []
  },
  {
   "cell_type": "code",
   "execution_count": null,
   "metadata": {},
   "outputs": [],
   "source": [
    "27. A contact management app needs to store and retrieve contact information. \n",
    "How can Python dictionaries be used to store names and phone numbers?"
   ]
  },
  {
   "cell_type": "code",
   "execution_count": 90,
   "metadata": {},
   "outputs": [
    {
     "name": "stdout",
     "output_type": "stream",
     "text": [
      "{'contact1': {'name': 'Indhu', 'p_number': 7852654251}, 'contact2': {'name': 'Chandru', 'p_number': 9572836548}, 'contact3': {'name': 'Rakshita', 'p_number': 9658214725}}\n"
     ]
    },
    {
     "ename": "AttributeError",
     "evalue": "'dict' object has no attribute 'contact1'",
     "output_type": "error",
     "traceback": [
      "\u001b[1;31m---------------------------------------------------------------------------\u001b[0m",
      "\u001b[1;31mAttributeError\u001b[0m                            Traceback (most recent call last)",
      "Cell \u001b[1;32mIn[90], line 21\u001b[0m\n\u001b[0;32m      2\u001b[0m management\u001b[39m=\u001b[39m{\n\u001b[0;32m      3\u001b[0m     \u001b[39m\"\u001b[39m\u001b[39mcontact1\u001b[39m\u001b[39m\"\u001b[39m:{\n\u001b[0;32m      4\u001b[0m     \u001b[39m\"\u001b[39m\u001b[39mname\u001b[39m\u001b[39m\"\u001b[39m:\u001b[39m\"\u001b[39m\u001b[39mIndhu\u001b[39m\u001b[39m\"\u001b[39m,\n\u001b[1;32m   (...)\u001b[0m\n\u001b[0;32m     16\u001b[0m \n\u001b[0;32m     17\u001b[0m }\n\u001b[0;32m     18\u001b[0m \u001b[39mprint\u001b[39m(management)\n\u001b[1;32m---> 21\u001b[0m \u001b[39mfor\u001b[39;00m k1,v1 \u001b[39min\u001b[39;00m management\u001b[39m.\u001b[39;49mcontact1:\n\u001b[0;32m     22\u001b[0m     \u001b[39mprint\u001b[39m(\u001b[39mf\u001b[39m\u001b[39m\"\u001b[39m\u001b[39m{\u001b[39;00mk1\u001b[39m}\u001b[39;00m\u001b[39m:\u001b[39m\u001b[39m{\u001b[39;00mv1\u001b[39m}\u001b[39;00m\u001b[39m\"\u001b[39m)\n",
      "\u001b[1;31mAttributeError\u001b[0m: 'dict' object has no attribute 'contact1'"
     ]
    }
   ],
   "source": [
    "contact=[]\n",
    "management={\n",
    "    \"contact1\":{\n",
    "    \"name\":\"Indhu\",\n",
    "    \"p_number\":7852654251,\n",
    "},\n",
    "   \"contact2\":{\n",
    "     \"name\":\"Chandru\",\n",
    "     \"p_number\":9572836548\n",
    "   },\n",
    "   \"contact3\":{\n",
    "       \"name\":\"Rakshita\",\n",
    "       \"p_number\":9658214725\n",
    "\n",
    "   },\n",
    "\n",
    "}\n",
    "print(management)\n",
    "\n",
    "\n",
    "for k1,v1 in management.contact1:\n",
    "    print(f\"{k1}:{v1}\")"
   ]
  },
  {
   "cell_type": "code",
   "execution_count": null,
   "metadata": {},
   "outputs": [],
   "source": [
    "28. A restaurant wants to create a menu that includes dish names and their prices. \n",
    "How can Python dictionaries be used to represent the menu items?"
   ]
  },
  {
   "cell_type": "code",
   "execution_count": 92,
   "metadata": {},
   "outputs": [
    {
     "name": "stdout",
     "output_type": "stream",
     "text": [
      "{'dish1': {'name': 'Biryani', 'Price': 200}, 'dish2': {'name': 'chicken gravy', 'Price': 100}, 'dish3': {'name': 'parotta', 'Price': 15}, 'dish4': {'name': 'meals', 'Price': 50}}\n"
     ]
    }
   ],
   "source": [
    "restaurant={\n",
    "    \"dish1\":{\n",
    "        \"name\":\"Biryani\",\n",
    "        \"Price\": 200,\n",
    "        },\n",
    "    \"dish2\":{\n",
    "        \"name\":\"chicken gravy\",\n",
    "        \"Price\": 100,\n",
    "        },\n",
    "    \"dish3\":{\n",
    "        \"name\":\"parotta\",\n",
    "        \"Price\": 15,\n",
    "    },\n",
    "    \"dish4\":{\n",
    "        \"name\":\"meals\",\n",
    "        \"Price\": 50,\n",
    "    },\n",
    "}\n",
    "print(restaurant)"
   ]
  },
  {
   "cell_type": "code",
   "execution_count": null,
   "metadata": {},
   "outputs": [],
   "source": [
    "29. An event management system needs to track attendees and their ticket types (e.g., VIP, regular). \n",
    "How can Python dictionaries be used to store this information?"
   ]
  },
  {
   "cell_type": "code",
   "execution_count": 103,
   "metadata": {},
   "outputs": [
    {
     "name": "stdout",
     "output_type": "stream",
     "text": [
      "{'a1': {'Seat_no': 5, 'type': 'VIP'}, 'a2': {'Seat_no': 12, 'type': 'general'}, 'a3': {'Seat_no': 20, 'type': 'Reserved'}, 'a4': {'Seat_no': 6, 'type': 'VIP'}}\n",
      "a1:{'Seat_no': 5, 'type': 'VIP'}\n",
      "a2:{'Seat_no': 12, 'type': 'general'}\n",
      "a3:{'Seat_no': 20, 'type': 'Reserved'}\n",
      "a4:{'Seat_no': 6, 'type': 'VIP'}\n"
     ]
    }
   ],
   "source": [
    "lst=[]\n",
    "management={\n",
    "    \"a1\":{\n",
    "    \"Seat_no\":5,\n",
    "    \"type\":\"VIP\",\n",
    "    },\n",
    "    \"a2\":{\n",
    "    \"Seat_no\":12,\n",
    "    \"type\":\"general\",\n",
    "    },\n",
    "    \"a3\":{\n",
    "    \"Seat_no\":20,\n",
    "    \"type\":\"Reserved\",\n",
    "    },\n",
    "    \"a4\":{\n",
    "    \"Seat_no\":6,\n",
    "    \"type\":\"VIP\",\n",
    "    },\n",
    "}\n",
    "print(management)\n",
    "lst.append(management)\n",
    "for i in lst:\n",
    "    for k,v in i.items():\n",
    "        print(f\"{k}:{v}\")\n"
   ]
  },
  {
   "cell_type": "code",
   "execution_count": null,
   "metadata": {},
   "outputs": [],
   "source": [
    "30. A car rental service needs to manage its fleet of vehicles, including vehicle details such as make, model, and availability. \n",
    "How can Python dictionaries be used to represent the fleet?"
   ]
  },
  {
   "cell_type": "code",
   "execution_count": null,
   "metadata": {},
   "outputs": [],
   "source": []
  },
  {
   "cell_type": "code",
   "execution_count": null,
   "metadata": {},
   "outputs": [],
   "source": []
  },
  {
   "cell_type": "code",
   "execution_count": null,
   "metadata": {},
   "outputs": [],
   "source": [
    "Data Types\n",
    "31. A scientific experiment records temperature readings at different times. \n",
    "What Python data type is suitable for storing these temperature values?"
   ]
  },
  {
   "cell_type": "code",
   "execution_count": null,
   "metadata": {},
   "outputs": [],
   "source": []
  },
  {
   "cell_type": "markdown",
   "metadata": {},
   "source": [
    "32. A financial application needs to store and perform calculations with currency amounts. \n",
    "What Python data type is appropriate for handling money"
   ]
  },
  {
   "cell_type": "code",
   "execution_count": 3,
   "metadata": {},
   "outputs": [
    {
     "name": "stdout",
     "output_type": "stream",
     "text": [
      "amount is:567.99\n"
     ]
    }
   ],
   "source": [
    "amount=float(input(\"enter the amount\"))\n",
    "print(\"amount is:%1.2f\" %(amount))\n"
   ]
  },
  {
   "cell_type": "markdown",
   "metadata": {},
   "source": [
    "33. An educational platform wants to store and manipulate student ages. \n",
    "Which Python data type is best suited for this purpose?"
   ]
  },
  {
   "cell_type": "code",
   "execution_count": 6,
   "metadata": {},
   "outputs": [
    {
     "name": "stdout",
     "output_type": "stream",
     "text": [
      "student age is:15\n"
     ]
    }
   ],
   "source": [
    "stud_age=int(input(\"enter a student age\"))\n",
    "print(f\"student age is:{stud_age}\")"
   ]
  },
  {
   "cell_type": "markdown",
   "metadata": {},
   "source": [
    "34. A GPS navigation app needs to represent geographical coordinates (latitude and longitude). \n",
    "Which Python data type should be used for storing these coordinates?"
   ]
  },
  {
   "cell_type": "code",
   "execution_count": 19,
   "metadata": {},
   "outputs": [
    {
     "name": "stdout",
     "output_type": "stream",
     "text": [
      "['2.5', '3.5', '2']\n",
      "['2.5', '6.3']\n",
      "latitude values:\n",
      "2.5\n",
      "3.5\n",
      "2.0\n",
      "longitude values:\n",
      "2.5\n",
      "6.3\n"
     ]
    }
   ],
   "source": [
    "latitude=input(\"enter a latitude value\")\n",
    "longitude=input(\"enter a longitude value\")\n",
    "l_lat=list(latitude.split(\" \"))\n",
    "print(l_lat)\n",
    "l_long=list(longitude.split(\" \"))\n",
    "print(l_long)\n",
    "print(\"latitude values:\")\n",
    "for i in l_lat:\n",
    "    i=float(i)\n",
    "    print(i)\n",
    "\n",
    "print(\"longitude values:\")\n",
    "for i in l_long:\n",
    "    i=float(i)\n",
    "    print(i)\n"
   ]
  },
  {
   "cell_type": "markdown",
   "metadata": {},
   "source": [
    "35. A social media platform wants to store the number of likes for each post. \n",
    "What Python data type is ideal for keeping track of these counts?"
   ]
  },
  {
   "cell_type": "code",
   "execution_count": null,
   "metadata": {},
   "outputs": [],
   "source": []
  },
  {
   "cell_type": "markdown",
   "metadata": {},
   "source": [
    "Statements\n",
    "36. A ticketing system needs to print different messages for different types of tickets (e.g., VIP, regular). \n",
    "How can Python if statements be used to achieve this?"
   ]
  },
  {
   "cell_type": "code",
   "execution_count": 34,
   "metadata": {},
   "outputs": [
    {
     "name": "stdout",
     "output_type": "stream",
     "text": [
      "vip\n",
      "This special place for VIP\n"
     ]
    }
   ],
   "source": [
    "n=input(\"enter a ticket type\")\n",
    "print(n.casefold())\n",
    "if n==\"vip\":\n",
    "    print(\"This special place for VIP\")\n",
    "else:\n",
    "    print(\"only few tickets available\")"
   ]
  },
  {
   "cell_type": "markdown",
   "metadata": {},
   "source": [
    "37. An online store wants to apply discounts to products based on their category. \n",
    "How can Python if-else statements be used to calculate the discounted price?"
   ]
  },
  {
   "cell_type": "code",
   "execution_count": 42,
   "metadata": {},
   "outputs": [
    {
     "name": "stdout",
     "output_type": "stream",
     "text": [
      "custard\n",
      "discount for the custard oil 5%\n",
      "have a nice day\n"
     ]
    }
   ],
   "source": [
    "product=input(\"enter the product type:\")\n",
    "if product==\"rice\":\n",
    "    t_rice=input(\"enter a rice type\")\n",
    "    print(t_rice)\n",
    "    if t_rice==\"normal\":\n",
    "        print(\"discount for normal rice is 10%\")\n",
    "    elif t_rice==\"bassmati\":\n",
    "        print(\"discount for the bassmati rice is 5%\")\n",
    "    else:\n",
    "        print(\"no discount other rices\")\n",
    "\n",
    "\n",
    "if product==\"oil\":\n",
    "    t_oil=input(\"enter oil\")\n",
    "    print(t_oil)\n",
    "    if t_oil==\"coconut\":\n",
    "        print(\"discount for the coconut oil is 2%\")\n",
    "    elif t_oil==\"custard\":\n",
    "        print(\"discount for the custard oil 5%\")\n",
    "    else:\n",
    "        print(\"no discount other oils\")\n",
    "print(\"have a nice day\")\n",
    "    \n"
   ]
  },
  {
   "cell_type": "markdown",
   "metadata": {},
   "source": [
    "38. A game developer wants to implement a game-over condition when a player's health reaches zero. \n",
    "How can Python if statements be used to check and handle this condition?"
   ]
  },
  {
   "cell_type": "code",
   "execution_count": 45,
   "metadata": {},
   "outputs": [
    {
     "name": "stdout",
     "output_type": "stream",
     "text": [
      "health condition is: 0\n",
      "health condition very bad\n"
     ]
    }
   ],
   "source": [
    "g_condition=int(input(\"enter the health condition \"))\n",
    "print(\"health condition is:\",g_condition)\n",
    "if g_condition==0:\n",
    "    print(\"health condition very bad\")\n",
    "else:\n",
    "    print(\"other player are good health conditions\")\n",
    "   "
   ]
  },
  {
   "cell_type": "markdown",
   "metadata": {},
   "source": [
    "39. A classroom management system needs to assign grades to students based on their scores. \n",
    "How can Python if-elif-else statements be used to determine the grade?"
   ]
  },
  {
   "cell_type": "code",
   "execution_count": 50,
   "metadata": {},
   "outputs": [
    {
     "name": "stdout",
     "output_type": "stream",
     "text": [
      "Fail\n"
     ]
    }
   ],
   "source": [
    "t=int(input(\"enter a Tamil:\"))\n",
    "e=int(input(\"enter a English:\"))\n",
    "m=int(input(\"enter a Maths:\"))\n",
    "s=int(input(\"enter a science:\"))\n",
    "sl=int(input(\"enter a Social:\"))\n",
    "if (t>=35) and (e>=35) and (m>=35) and (s>=35) and (sl>=35):\n",
    "    print(\"Pass\")\n",
    "    tot=t+e+m+s+sl\n",
    "    print(f\"total={tot}\")\n",
    "    avg=tot/5\n",
    "    print(f\"average={avg}\")\n",
    "    if(avg>=90):\n",
    "        print(\"grade is A\")\n",
    "    elif(avg>=80) and (avg<90):\n",
    "        print(\"grade is B\")\n",
    "    elif(avg>=60) and (avg<80):\n",
    "        print(\"grade is C\")\n",
    "    elif(avg>=40) and (avg<60):\n",
    "        print(\"grade is D\")\n",
    "    elif(avg>=35) and (avg<40):\n",
    "        print(\"grade is E\")\n",
    "else:\n",
    "    print(\"Fail\")"
   ]
  },
  {
   "cell_type": "markdown",
   "metadata": {},
   "source": [
    "40. A temperature monitoring system needs to send alerts when the temperature exceeds a certain threshold.\n",
    " How can Python if statements be used to trigger alerts?"
   ]
  },
  {
   "cell_type": "code",
   "execution_count": 52,
   "metadata": {},
   "outputs": [
    {
     "name": "stdout",
     "output_type": "stream",
     "text": [
      "tempature in fahrenheit:98\n",
      "tempetature is high\n",
      "Need to slow  the tempature level \n"
     ]
    }
   ],
   "source": [
    "t_fah=int(input(\"enter a tempature\"))\n",
    "print(f\"tempature in fahrenheit:{t_fah}\")\n",
    "if t_fah<=75:\n",
    "    print(\"tempature is normal\")\n",
    "else:\n",
    "    print(\"tempetature is high\")\n",
    "    print(\"Need to slow  the tempature level \")\n"
   ]
  },
  {
   "cell_type": "markdown",
   "metadata": {},
   "source": [
    "If Conditions:\n",
    "41. A user authentication system needs to grant access only to users with the correct username and password. \n",
    "How can Python if conditions be used for authentication?"
   ]
  },
  {
   "cell_type": "code",
   "execution_count": 57,
   "metadata": {},
   "outputs": [
    {
     "name": "stdout",
     "output_type": "stream",
     "text": [
      "access to the system\n"
     ]
    }
   ],
   "source": [
    "u_name=input(\"enter a username:\")\n",
    "u_check=input(f\"is correct username?{u_name}\")\n",
    "pw=input(\"enter a password:\")\n",
    "p_check=input(f\"is correct username?{pw}\")\n",
    "if u_check==\"yes\" and p_check==\"yes\":\n",
    "    print(\"access to the system\")\n",
    "else:\n",
    "    print(\"Reenter the username and password\")\n"
   ]
  },
  {
   "cell_type": "markdown",
   "metadata": {},
   "source": [
    "42. A car rental service wants to offer discounts based on the rental duration (e.g., 3 days or more). \n",
    "How can Python if conditions be used to calculate the discounted price?"
   ]
  },
  {
   "cell_type": "code",
   "execution_count": 58,
   "metadata": {},
   "outputs": [
    {
     "name": "stdout",
     "output_type": "stream",
     "text": [
      "rental days for car: 1\n",
      "no discount\n"
     ]
    }
   ],
   "source": [
    "days=int(input(\"enter a rental days for car:\"))\n",
    "print(f\"rental days for car: {days}\")\n",
    "if days>2:\n",
    "    print(\"discount for the car rent 5%\")\n",
    "else:\n",
    "    print(\"no discount\")"
   ]
  },
  {
   "cell_type": "markdown",
   "metadata": {},
   "source": [
    "43. A student registration system needs to determine if a student is eligible for a particular course based on their prior qualifications. \n",
    "How can Python if conditions be used to check eligibility?"
   ]
  },
  {
   "cell_type": "code",
   "execution_count": 74,
   "metadata": {},
   "outputs": [
    {
     "ename": "TypeError",
     "evalue": "'>=' not supported between instances of 'str' and 'int'",
     "output_type": "error",
     "traceback": [
      "\u001b[1;31m---------------------------------------------------------------------------\u001b[0m",
      "\u001b[1;31mTypeError\u001b[0m                                 Traceback (most recent call last)",
      "Cell \u001b[1;32mIn[74], line 8\u001b[0m\n\u001b[0;32m      6\u001b[0m y\u001b[39m=\u001b[39m{}\n\u001b[0;32m      7\u001b[0m \u001b[39mfor\u001b[39;00m y \u001b[39min\u001b[39;00m x\u001b[39m.\u001b[39mvalues():\n\u001b[1;32m----> 8\u001b[0m     \u001b[39mif\u001b[39;00m y\u001b[39m>\u001b[39;49m\u001b[39m=\u001b[39;49m\u001b[39m90\u001b[39;49m:\n\u001b[0;32m      9\u001b[0m         \u001b[39mprint\u001b[39m(\u001b[39m\"\u001b[39m\u001b[39meligibility of the student for the course:\u001b[39m\u001b[39m\"\u001b[39m)\n\u001b[0;32m     10\u001b[0m         \u001b[39mprint\u001b[39m(y)\n",
      "\u001b[1;31mTypeError\u001b[0m: '>=' not supported between instances of 'str' and 'int'"
     ]
    }
   ],
   "source": [
    "stud=[{\"name\":\"rani\",\"percentage\":70},{\"name\":\"Indhu\",\"percentage\":90},{\"name\":\"Rakshita\",\"percentage\":95},\n",
    "      {\"name\":\"raja\",\"percentage\":85},{\"name\":\"sri\",\"percentage\":65}]\n",
    "\n",
    "\n",
    "for x in stud:\n",
    "    y={}\n",
    "    for y in x.values():\n",
    "        if y>=90:\n",
    "            print(\"eligibility of the student for the course:\")\n",
    "            print(y)\n",
    "        \n",
    "\n",
    "    \n",
    "    \n",
    "        \n",
    "    "
   ]
  },
  {
   "cell_type": "markdown",
   "metadata": {},
   "source": [
    "44. A traffic monitoring system needs to detect if a vehicle is speeding. \n",
    "How can Python if conditions be used to issue a speeding ticket when necessary?"
   ]
  },
  {
   "cell_type": "code",
   "execution_count": 82,
   "metadata": {},
   "outputs": [
    {
     "name": "stdout",
     "output_type": "stream",
     "text": [
      "speed of the vehicle:80\n",
      "vehichle is speed\n"
     ]
    }
   ],
   "source": [
    "speed=int(input(\"enter a speed for the vehicle:\"))\n",
    "print(f\"speed of the vehicle:{speed}\")\n",
    "if speed<=50:\n",
    "    print(\"the speed of the vehicle is normal\")\n",
    "else:\n",
    "    print(\"vehichle is speeding\")\n"
   ]
  },
  {
   "cell_type": "markdown",
   "metadata": {},
   "source": [
    "45. A game developer wants to check if a player has reached a certain level to unlock new features.\n",
    " How can Python if conditions be used to control feature access?\n"
   ]
  },
  {
   "cell_type": "code",
   "execution_count": 84,
   "metadata": {},
   "outputs": [
    {
     "name": "stdout",
     "output_type": "stream",
     "text": [
      "level of the game:mid\n",
      "still move some levels\n"
     ]
    }
   ],
   "source": [
    "level=input(\"enter a start or mid or high:?\")\n",
    "print(f\"level of the game:{level}\")\n",
    "if level==\"start\":\n",
    "    print(\"Its starting level lock the features\")\n",
    "elif level==\"mid\":\n",
    "    print(\"still move some levels\")\n",
    "elif level==\"high\":\n",
    "    print(\"unlock the new features now\")\n",
    "else:\n",
    "    print(\"play again\")\n"
   ]
  },
  {
   "cell_type": "markdown",
   "metadata": {},
   "source": [
    "For Loops\n",
    "46. A calendar application needs to print the days of the week. \n",
    "How can Python for loops be used to iterate through the days and print them?"
   ]
  },
  {
   "cell_type": "code",
   "execution_count": 127,
   "metadata": {},
   "outputs": [
    {
     "name": "stdout",
     "output_type": "stream",
     "text": [
      "Days of the Week\n",
      "Sunday\n",
      "Monday\n",
      "Tuesday\n",
      "Wednesday\n",
      "Friday\n",
      "Saturday\n",
      "have a nice day\n"
     ]
    }
   ],
   "source": [
    "print(\"Days of the Week\")\n",
    "for cal in range(0,8):\n",
    "    if cal==0:\n",
    "        print(\"Sunday\")\n",
    "    elif cal==2:\n",
    "        print(\"Monday\")\n",
    "    elif cal==3:\n",
    "        print(\"Tuesday\")\n",
    "    elif cal==4:\n",
    "        print(\"Wednesday\")\n",
    "    elif cal==5:\n",
    "        print(\"Friday\")\n",
    "    elif cal==6:\n",
    "        print(\"Saturday\")\n",
    "print(\"have a nice day\")\n",
    "    \n",
    "\n",
    "\n"
   ]
  },
  {
   "cell_type": "markdown",
   "metadata": {},
   "source": [
    "47. A scientific experiment records data at regular intervals. \n",
    "How can Python for loops be used to iterate through the time intervals and collect data points at each interval? \n",
    "Write a Python code snippet that demonstrates how a for loop can be employed to automate the data collection process during the experiment."
   ]
  },
  {
   "cell_type": "code",
   "execution_count": null,
   "metadata": {},
   "outputs": [],
   "source": []
  },
  {
   "cell_type": "markdown",
   "metadata": {},
   "source": [
    "While Loops\n",
    "48. An online game wants to keep running until the player decides to exit. \n",
    "How can Python while loops be used to repeatedly prompt the player if they want to continue playing, and exit the game when they choose to quit?"
   ]
  },
  {
   "cell_type": "code",
   "execution_count": null,
   "metadata": {},
   "outputs": [],
   "source": [
    "player=input(\"shall player play or exit?\")\n",
    "while player==\"play\":\n",
    "    print(\"running the game\")\n",
    "else:\n",
    "    "
   ]
  },
  {
   "cell_type": "markdown",
   "metadata": {},
   "source": [
    "49. A program needs to continuously monitor a sensor and take action when a certain condition is met (e.g., temperature exceeding a threshold). How can Python while loops be used to achieve this real-time monitoring and control?"
   ]
  },
  {
   "cell_type": "markdown",
   "metadata": {},
   "source": []
  },
  {
   "cell_type": "markdown",
   "metadata": {},
   "source": [
    "50. A user is asked to enter a series of numbers until they enter a negative number to signal the end of input. How can Python while loops be used to repeatedly read user input and stop when a negative number is entered?"
   ]
  },
  {
   "cell_type": "code",
   "execution_count": null,
   "metadata": {},
   "outputs": [],
   "source": []
  }
 ],
 "metadata": {
  "kernelspec": {
   "display_name": "Python 3",
   "language": "python",
   "name": "python3"
  },
  "language_info": {
   "codemirror_mode": {
    "name": "ipython",
    "version": 3
   },
   "file_extension": ".py",
   "mimetype": "text/x-python",
   "name": "python",
   "nbconvert_exporter": "python",
   "pygments_lexer": "ipython3",
   "version": "3.10.11"
  },
  "orig_nbformat": 4
 },
 "nbformat": 4,
 "nbformat_minor": 2
}
